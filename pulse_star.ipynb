{
  "nbformat": 4,
  "nbformat_minor": 0,
  "metadata": {
    "colab": {
      "name": "pulse_star.ipynb",
      "provenance": [],
      "authorship_tag": "ABX9TyMR810xHXoveIkafTl9RAPy",
      "include_colab_link": true
    },
    "kernelspec": {
      "name": "python3",
      "display_name": "Python 3"
    },
    "language_info": {
      "name": "python"
    }
  },
  "cells": [
    {
      "cell_type": "markdown",
      "metadata": {
        "id": "view-in-github",
        "colab_type": "text"
      },
      "source": [
        "<a href=\"https://colab.research.google.com/github/dsarj/tcc_previsao_pulsares/blob/main/pulse_star.ipynb\" target=\"_parent\"><img src=\"https://colab.research.google.com/assets/colab-badge.svg\" alt=\"Open In Colab\"/></a>"
      ]
    },
    {
      "cell_type": "code",
      "execution_count": 1,
      "metadata": {
        "id": "YteWNYZFgfkt"
      },
      "outputs": [],
      "source": [
        "import pandas as pd\n",
        "import numpy as np\n",
        "from sklearn.tree import DecisionTreeRegressor\n",
        "from sklearn.model_selection import train_test_split\n",
        "from sklearn.metrics import mean_absolute_error\n",
        "from sklearn.ensemble import RandomForestRegressor\n",
        "from google.colab import files"
      ]
    },
    {
      "cell_type": "code",
      "source": [
        "# Caminho do arquivo a ser lido\n",
        "data = files.upload()\n",
        "\n",
        "# Armazenando o conteudo do arquivo lido na variável data\n",
        "# train_data = pd.read_csv(file_path)"
      ],
      "metadata": {
        "colab": {
          "resources": {
            "http://localhost:8080/nbextensions/google.colab/files.js": {
              "data": "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",
              "ok": true,
              "headers": [
                [
                  "content-type",
                  "application/javascript"
                ]
              ],
              "status": 200,
              "status_text": ""
            }
          },
          "base_uri": "https://localhost:8080/",
          "height": 74
        },
        "id": "Vn6g6UpTgnSi",
        "outputId": "6a95e336-0aff-4e91-ec7b-2e116a15ea73"
      },
      "execution_count": 2,
      "outputs": [
        {
          "output_type": "display_data",
          "data": {
            "text/html": [
              "\n",
              "     <input type=\"file\" id=\"files-d953cc19-d52b-4649-8a6b-5d75d0b07406\" name=\"files[]\" multiple disabled\n",
              "        style=\"border:none\" />\n",
              "     <output id=\"result-d953cc19-d52b-4649-8a6b-5d75d0b07406\">\n",
              "      Upload widget is only available when the cell has been executed in the\n",
              "      current browser session. Please rerun this cell to enable.\n",
              "      </output>\n",
              "      <script src=\"/nbextensions/google.colab/files.js\"></script> "
            ],
            "text/plain": [
              "<IPython.core.display.HTML object>"
            ]
          },
          "metadata": {}
        },
        {
          "output_type": "stream",
          "name": "stdout",
          "text": [
            "Saving pulsar_data_test.csv to pulsar_data_test.csv\n"
          ]
        }
      ]
    },
    {
      "cell_type": "code",
      "source": [
        "#Exibindo dimensões campos e tipos de dados\n",
        "pulse_star_train = pd.read_csv(next(iter(data.keys())))\n",
        "\n",
        "print(\"\\nDimensões de Pulse Star:\\n{0}\\n\".format(pulse_star_train.shape))\n",
        "print(\"\\nCampos de Pulse Star:\\n{0}\\n\".format(list(pulse_star_train .keys())))\n",
        "print(\"\\nTipos dos dados:\\n{0}\\n\".format(pulse_star_train .dtypes))\n",
        "\n",
        "# Printando estatísticas iniciais em tabela bruta\n",
        "pulse_star_train.describe()"
      ],
      "metadata": {
        "colab": {
          "base_uri": "https://localhost:8080/",
          "height": 781
        },
        "id": "dzXhv09xguKx",
        "outputId": "eb612195-999a-4ff4-b645-b550abd89017"
      },
      "execution_count": 3,
      "outputs": [
        {
          "output_type": "stream",
          "name": "stdout",
          "text": [
            "\n",
            "Dimensões de Pulse Star:\n",
            "(5370, 9)\n",
            "\n",
            "\n",
            "Campos de Pulse Star:\n",
            "[' Mean of the integrated profile', ' Standard deviation of the integrated profile', ' Excess kurtosis of the integrated profile', ' Skewness of the integrated profile', ' Mean of the DM-SNR curve', ' Standard deviation of the DM-SNR curve', ' Excess kurtosis of the DM-SNR curve', ' Skewness of the DM-SNR curve', 'target_class']\n",
            "\n",
            "\n",
            "Tipos dos dados:\n",
            " Mean of the integrated profile                  float64\n",
            " Standard deviation of the integrated profile    float64\n",
            " Excess kurtosis of the integrated profile       float64\n",
            " Skewness of the integrated profile              float64\n",
            " Mean of the DM-SNR curve                        float64\n",
            " Standard deviation of the DM-SNR curve          float64\n",
            " Excess kurtosis of the DM-SNR curve             float64\n",
            " Skewness of the DM-SNR curve                    float64\n",
            "target_class                                     float64\n",
            "dtype: object\n",
            "\n"
          ]
        },
        {
          "output_type": "execute_result",
          "data": {
            "text/html": [
              "\n",
              "  <div id=\"df-ef874ad6-dbd4-43d3-8c3a-c88d4c543c53\">\n",
              "    <div class=\"colab-df-container\">\n",
              "      <div>\n",
              "<style scoped>\n",
              "    .dataframe tbody tr th:only-of-type {\n",
              "        vertical-align: middle;\n",
              "    }\n",
              "\n",
              "    .dataframe tbody tr th {\n",
              "        vertical-align: top;\n",
              "    }\n",
              "\n",
              "    .dataframe thead th {\n",
              "        text-align: right;\n",
              "    }\n",
              "</style>\n",
              "<table border=\"1\" class=\"dataframe\">\n",
              "  <thead>\n",
              "    <tr style=\"text-align: right;\">\n",
              "      <th></th>\n",
              "      <th>Mean of the integrated profile</th>\n",
              "      <th>Standard deviation of the integrated profile</th>\n",
              "      <th>Excess kurtosis of the integrated profile</th>\n",
              "      <th>Skewness of the integrated profile</th>\n",
              "      <th>Mean of the DM-SNR curve</th>\n",
              "      <th>Standard deviation of the DM-SNR curve</th>\n",
              "      <th>Excess kurtosis of the DM-SNR curve</th>\n",
              "      <th>Skewness of the DM-SNR curve</th>\n",
              "      <th>target_class</th>\n",
              "    </tr>\n",
              "  </thead>\n",
              "  <tbody>\n",
              "    <tr>\n",
              "      <th>count</th>\n",
              "      <td>5370.000000</td>\n",
              "      <td>5370.000000</td>\n",
              "      <td>4603.000000</td>\n",
              "      <td>5370.000000</td>\n",
              "      <td>5370.000000</td>\n",
              "      <td>4846.000000</td>\n",
              "      <td>5370.000000</td>\n",
              "      <td>5126.000000</td>\n",
              "      <td>0.0</td>\n",
              "    </tr>\n",
              "    <tr>\n",
              "      <th>mean</th>\n",
              "      <td>111.168917</td>\n",
              "      <td>46.615074</td>\n",
              "      <td>0.483676</td>\n",
              "      <td>1.751260</td>\n",
              "      <td>12.473587</td>\n",
              "      <td>26.425371</td>\n",
              "      <td>8.233724</td>\n",
              "      <td>102.869088</td>\n",
              "      <td>NaN</td>\n",
              "    </tr>\n",
              "    <tr>\n",
              "      <th>std</th>\n",
              "      <td>25.608635</td>\n",
              "      <td>6.940638</td>\n",
              "      <td>1.076893</td>\n",
              "      <td>6.072820</td>\n",
              "      <td>29.145134</td>\n",
              "      <td>19.384489</td>\n",
              "      <td>4.435683</td>\n",
              "      <td>104.748418</td>\n",
              "      <td>NaN</td>\n",
              "    </tr>\n",
              "    <tr>\n",
              "      <th>min</th>\n",
              "      <td>6.179688</td>\n",
              "      <td>24.791612</td>\n",
              "      <td>-1.876011</td>\n",
              "      <td>-1.764717</td>\n",
              "      <td>0.213211</td>\n",
              "      <td>7.370432</td>\n",
              "      <td>-2.721857</td>\n",
              "      <td>-1.964998</td>\n",
              "      <td>NaN</td>\n",
              "    </tr>\n",
              "    <tr>\n",
              "      <th>25%</th>\n",
              "      <td>101.041016</td>\n",
              "      <td>42.408020</td>\n",
              "      <td>0.030643</td>\n",
              "      <td>-0.189557</td>\n",
              "      <td>1.956522</td>\n",
              "      <td>14.555826</td>\n",
              "      <td>5.700461</td>\n",
              "      <td>33.817330</td>\n",
              "      <td>NaN</td>\n",
              "    </tr>\n",
              "    <tr>\n",
              "      <th>50%</th>\n",
              "      <td>114.757812</td>\n",
              "      <td>47.031304</td>\n",
              "      <td>0.227314</td>\n",
              "      <td>0.186468</td>\n",
              "      <td>2.830686</td>\n",
              "      <td>18.549670</td>\n",
              "      <td>8.383695</td>\n",
              "      <td>81.392046</td>\n",
              "      <td>NaN</td>\n",
              "    </tr>\n",
              "    <tr>\n",
              "      <th>75%</th>\n",
              "      <td>127.023438</td>\n",
              "      <td>51.133444</td>\n",
              "      <td>0.475056</td>\n",
              "      <td>0.918807</td>\n",
              "      <td>5.590301</td>\n",
              "      <td>28.681787</td>\n",
              "      <td>10.632265</td>\n",
              "      <td>136.893502</td>\n",
              "      <td>NaN</td>\n",
              "    </tr>\n",
              "    <tr>\n",
              "      <th>max</th>\n",
              "      <td>192.617188</td>\n",
              "      <td>98.778911</td>\n",
              "      <td>7.608370</td>\n",
              "      <td>65.385974</td>\n",
              "      <td>223.392141</td>\n",
              "      <td>109.712649</td>\n",
              "      <td>34.539844</td>\n",
              "      <td>1191.000837</td>\n",
              "      <td>NaN</td>\n",
              "    </tr>\n",
              "  </tbody>\n",
              "</table>\n",
              "</div>\n",
              "      <button class=\"colab-df-convert\" onclick=\"convertToInteractive('df-ef874ad6-dbd4-43d3-8c3a-c88d4c543c53')\"\n",
              "              title=\"Convert this dataframe to an interactive table.\"\n",
              "              style=\"display:none;\">\n",
              "        \n",
              "  <svg xmlns=\"http://www.w3.org/2000/svg\" height=\"24px\"viewBox=\"0 0 24 24\"\n",
              "       width=\"24px\">\n",
              "    <path d=\"M0 0h24v24H0V0z\" fill=\"none\"/>\n",
              "    <path d=\"M18.56 5.44l.94 2.06.94-2.06 2.06-.94-2.06-.94-.94-2.06-.94 2.06-2.06.94zm-11 1L8.5 8.5l.94-2.06 2.06-.94-2.06-.94L8.5 2.5l-.94 2.06-2.06.94zm10 10l.94 2.06.94-2.06 2.06-.94-2.06-.94-.94-2.06-.94 2.06-2.06.94z\"/><path d=\"M17.41 7.96l-1.37-1.37c-.4-.4-.92-.59-1.43-.59-.52 0-1.04.2-1.43.59L10.3 9.45l-7.72 7.72c-.78.78-.78 2.05 0 2.83L4 21.41c.39.39.9.59 1.41.59.51 0 1.02-.2 1.41-.59l7.78-7.78 2.81-2.81c.8-.78.8-2.07 0-2.86zM5.41 20L4 18.59l7.72-7.72 1.47 1.35L5.41 20z\"/>\n",
              "  </svg>\n",
              "      </button>\n",
              "      \n",
              "  <style>\n",
              "    .colab-df-container {\n",
              "      display:flex;\n",
              "      flex-wrap:wrap;\n",
              "      gap: 12px;\n",
              "    }\n",
              "\n",
              "    .colab-df-convert {\n",
              "      background-color: #E8F0FE;\n",
              "      border: none;\n",
              "      border-radius: 50%;\n",
              "      cursor: pointer;\n",
              "      display: none;\n",
              "      fill: #1967D2;\n",
              "      height: 32px;\n",
              "      padding: 0 0 0 0;\n",
              "      width: 32px;\n",
              "    }\n",
              "\n",
              "    .colab-df-convert:hover {\n",
              "      background-color: #E2EBFA;\n",
              "      box-shadow: 0px 1px 2px rgba(60, 64, 67, 0.3), 0px 1px 3px 1px rgba(60, 64, 67, 0.15);\n",
              "      fill: #174EA6;\n",
              "    }\n",
              "\n",
              "    [theme=dark] .colab-df-convert {\n",
              "      background-color: #3B4455;\n",
              "      fill: #D2E3FC;\n",
              "    }\n",
              "\n",
              "    [theme=dark] .colab-df-convert:hover {\n",
              "      background-color: #434B5C;\n",
              "      box-shadow: 0px 1px 3px 1px rgba(0, 0, 0, 0.15);\n",
              "      filter: drop-shadow(0px 1px 2px rgba(0, 0, 0, 0.3));\n",
              "      fill: #FFFFFF;\n",
              "    }\n",
              "  </style>\n",
              "\n",
              "      <script>\n",
              "        const buttonEl =\n",
              "          document.querySelector('#df-ef874ad6-dbd4-43d3-8c3a-c88d4c543c53 button.colab-df-convert');\n",
              "        buttonEl.style.display =\n",
              "          google.colab.kernel.accessAllowed ? 'block' : 'none';\n",
              "\n",
              "        async function convertToInteractive(key) {\n",
              "          const element = document.querySelector('#df-ef874ad6-dbd4-43d3-8c3a-c88d4c543c53');\n",
              "          const dataTable =\n",
              "            await google.colab.kernel.invokeFunction('convertToInteractive',\n",
              "                                                     [key], {});\n",
              "          if (!dataTable) return;\n",
              "\n",
              "          const docLinkHtml = 'Like what you see? Visit the ' +\n",
              "            '<a target=\"_blank\" href=https://colab.research.google.com/notebooks/data_table.ipynb>data table notebook</a>'\n",
              "            + ' to learn more about interactive tables.';\n",
              "          element.innerHTML = '';\n",
              "          dataTable['output_type'] = 'display_data';\n",
              "          await google.colab.output.renderOutput(dataTable, element);\n",
              "          const docLink = document.createElement('div');\n",
              "          docLink.innerHTML = docLinkHtml;\n",
              "          element.appendChild(docLink);\n",
              "        }\n",
              "      </script>\n",
              "    </div>\n",
              "  </div>\n",
              "  "
            ],
            "text/plain": [
              "        Mean of the integrated profile  ...  target_class\n",
              "count                      5370.000000  ...           0.0\n",
              "mean                        111.168917  ...           NaN\n",
              "std                          25.608635  ...           NaN\n",
              "min                           6.179688  ...           NaN\n",
              "25%                         101.041016  ...           NaN\n",
              "50%                         114.757812  ...           NaN\n",
              "75%                         127.023438  ...           NaN\n",
              "max                         192.617188  ...           NaN\n",
              "\n",
              "[8 rows x 9 columns]"
            ]
          },
          "metadata": {},
          "execution_count": 3
        }
      ]
    },
    {
      "cell_type": "code",
      "source": [
        "# Obtendo primeiros dados da tabela\n",
        "pulse_star_train.head()"
      ],
      "metadata": {
        "colab": {
          "base_uri": "https://localhost:8080/",
          "height": 302
        },
        "id": "UMGhJPiFp1-L",
        "outputId": "54688877-7c6a-4745-b345-6cd04123b0f1"
      },
      "execution_count": 4,
      "outputs": [
        {
          "output_type": "execute_result",
          "data": {
            "text/html": [
              "\n",
              "  <div id=\"df-d12d2508-d1d5-45ad-b6c6-03b8409c5593\">\n",
              "    <div class=\"colab-df-container\">\n",
              "      <div>\n",
              "<style scoped>\n",
              "    .dataframe tbody tr th:only-of-type {\n",
              "        vertical-align: middle;\n",
              "    }\n",
              "\n",
              "    .dataframe tbody tr th {\n",
              "        vertical-align: top;\n",
              "    }\n",
              "\n",
              "    .dataframe thead th {\n",
              "        text-align: right;\n",
              "    }\n",
              "</style>\n",
              "<table border=\"1\" class=\"dataframe\">\n",
              "  <thead>\n",
              "    <tr style=\"text-align: right;\">\n",
              "      <th></th>\n",
              "      <th>Mean of the integrated profile</th>\n",
              "      <th>Standard deviation of the integrated profile</th>\n",
              "      <th>Excess kurtosis of the integrated profile</th>\n",
              "      <th>Skewness of the integrated profile</th>\n",
              "      <th>Mean of the DM-SNR curve</th>\n",
              "      <th>Standard deviation of the DM-SNR curve</th>\n",
              "      <th>Excess kurtosis of the DM-SNR curve</th>\n",
              "      <th>Skewness of the DM-SNR curve</th>\n",
              "      <th>target_class</th>\n",
              "    </tr>\n",
              "  </thead>\n",
              "  <tbody>\n",
              "    <tr>\n",
              "      <th>0</th>\n",
              "      <td>116.906250</td>\n",
              "      <td>48.920605</td>\n",
              "      <td>0.186046</td>\n",
              "      <td>-0.129815</td>\n",
              "      <td>3.037625</td>\n",
              "      <td>17.737102</td>\n",
              "      <td>8.122621</td>\n",
              "      <td>78.813405</td>\n",
              "      <td>NaN</td>\n",
              "    </tr>\n",
              "    <tr>\n",
              "      <th>1</th>\n",
              "      <td>75.585938</td>\n",
              "      <td>34.386254</td>\n",
              "      <td>2.025498</td>\n",
              "      <td>8.652913</td>\n",
              "      <td>3.765050</td>\n",
              "      <td>21.897049</td>\n",
              "      <td>7.048189</td>\n",
              "      <td>55.878791</td>\n",
              "      <td>NaN</td>\n",
              "    </tr>\n",
              "    <tr>\n",
              "      <th>2</th>\n",
              "      <td>103.273438</td>\n",
              "      <td>46.996628</td>\n",
              "      <td>0.504295</td>\n",
              "      <td>0.821088</td>\n",
              "      <td>2.244983</td>\n",
              "      <td>15.622566</td>\n",
              "      <td>9.330498</td>\n",
              "      <td>105.134941</td>\n",
              "      <td>NaN</td>\n",
              "    </tr>\n",
              "    <tr>\n",
              "      <th>3</th>\n",
              "      <td>101.078125</td>\n",
              "      <td>48.587487</td>\n",
              "      <td>1.011427</td>\n",
              "      <td>1.151870</td>\n",
              "      <td>81.887960</td>\n",
              "      <td>81.464136</td>\n",
              "      <td>0.485105</td>\n",
              "      <td>-1.117904</td>\n",
              "      <td>NaN</td>\n",
              "    </tr>\n",
              "    <tr>\n",
              "      <th>4</th>\n",
              "      <td>113.226562</td>\n",
              "      <td>48.608804</td>\n",
              "      <td>0.291538</td>\n",
              "      <td>0.292120</td>\n",
              "      <td>6.291806</td>\n",
              "      <td>26.585056</td>\n",
              "      <td>4.540138</td>\n",
              "      <td>21.708268</td>\n",
              "      <td>NaN</td>\n",
              "    </tr>\n",
              "  </tbody>\n",
              "</table>\n",
              "</div>\n",
              "      <button class=\"colab-df-convert\" onclick=\"convertToInteractive('df-d12d2508-d1d5-45ad-b6c6-03b8409c5593')\"\n",
              "              title=\"Convert this dataframe to an interactive table.\"\n",
              "              style=\"display:none;\">\n",
              "        \n",
              "  <svg xmlns=\"http://www.w3.org/2000/svg\" height=\"24px\"viewBox=\"0 0 24 24\"\n",
              "       width=\"24px\">\n",
              "    <path d=\"M0 0h24v24H0V0z\" fill=\"none\"/>\n",
              "    <path d=\"M18.56 5.44l.94 2.06.94-2.06 2.06-.94-2.06-.94-.94-2.06-.94 2.06-2.06.94zm-11 1L8.5 8.5l.94-2.06 2.06-.94-2.06-.94L8.5 2.5l-.94 2.06-2.06.94zm10 10l.94 2.06.94-2.06 2.06-.94-2.06-.94-.94-2.06-.94 2.06-2.06.94z\"/><path d=\"M17.41 7.96l-1.37-1.37c-.4-.4-.92-.59-1.43-.59-.52 0-1.04.2-1.43.59L10.3 9.45l-7.72 7.72c-.78.78-.78 2.05 0 2.83L4 21.41c.39.39.9.59 1.41.59.51 0 1.02-.2 1.41-.59l7.78-7.78 2.81-2.81c.8-.78.8-2.07 0-2.86zM5.41 20L4 18.59l7.72-7.72 1.47 1.35L5.41 20z\"/>\n",
              "  </svg>\n",
              "      </button>\n",
              "      \n",
              "  <style>\n",
              "    .colab-df-container {\n",
              "      display:flex;\n",
              "      flex-wrap:wrap;\n",
              "      gap: 12px;\n",
              "    }\n",
              "\n",
              "    .colab-df-convert {\n",
              "      background-color: #E8F0FE;\n",
              "      border: none;\n",
              "      border-radius: 50%;\n",
              "      cursor: pointer;\n",
              "      display: none;\n",
              "      fill: #1967D2;\n",
              "      height: 32px;\n",
              "      padding: 0 0 0 0;\n",
              "      width: 32px;\n",
              "    }\n",
              "\n",
              "    .colab-df-convert:hover {\n",
              "      background-color: #E2EBFA;\n",
              "      box-shadow: 0px 1px 2px rgba(60, 64, 67, 0.3), 0px 1px 3px 1px rgba(60, 64, 67, 0.15);\n",
              "      fill: #174EA6;\n",
              "    }\n",
              "\n",
              "    [theme=dark] .colab-df-convert {\n",
              "      background-color: #3B4455;\n",
              "      fill: #D2E3FC;\n",
              "    }\n",
              "\n",
              "    [theme=dark] .colab-df-convert:hover {\n",
              "      background-color: #434B5C;\n",
              "      box-shadow: 0px 1px 3px 1px rgba(0, 0, 0, 0.15);\n",
              "      filter: drop-shadow(0px 1px 2px rgba(0, 0, 0, 0.3));\n",
              "      fill: #FFFFFF;\n",
              "    }\n",
              "  </style>\n",
              "\n",
              "      <script>\n",
              "        const buttonEl =\n",
              "          document.querySelector('#df-d12d2508-d1d5-45ad-b6c6-03b8409c5593 button.colab-df-convert');\n",
              "        buttonEl.style.display =\n",
              "          google.colab.kernel.accessAllowed ? 'block' : 'none';\n",
              "\n",
              "        async function convertToInteractive(key) {\n",
              "          const element = document.querySelector('#df-d12d2508-d1d5-45ad-b6c6-03b8409c5593');\n",
              "          const dataTable =\n",
              "            await google.colab.kernel.invokeFunction('convertToInteractive',\n",
              "                                                     [key], {});\n",
              "          if (!dataTable) return;\n",
              "\n",
              "          const docLinkHtml = 'Like what you see? Visit the ' +\n",
              "            '<a target=\"_blank\" href=https://colab.research.google.com/notebooks/data_table.ipynb>data table notebook</a>'\n",
              "            + ' to learn more about interactive tables.';\n",
              "          element.innerHTML = '';\n",
              "          dataTable['output_type'] = 'display_data';\n",
              "          await google.colab.output.renderOutput(dataTable, element);\n",
              "          const docLink = document.createElement('div');\n",
              "          docLink.innerHTML = docLinkHtml;\n",
              "          element.appendChild(docLink);\n",
              "        }\n",
              "      </script>\n",
              "    </div>\n",
              "  </div>\n",
              "  "
            ],
            "text/plain": [
              "    Mean of the integrated profile  ...  target_class\n",
              "0                       116.906250  ...           NaN\n",
              "1                        75.585938  ...           NaN\n",
              "2                       103.273438  ...           NaN\n",
              "3                       101.078125  ...           NaN\n",
              "4                       113.226562  ...           NaN\n",
              "\n",
              "[5 rows x 9 columns]"
            ]
          },
          "metadata": {},
          "execution_count": 4
        }
      ]
    },
    {
      "cell_type": "code",
      "source": [
        "''' Explicando as colunas\n",
        "Mean of the Integrated profile:\n",
        "Standard deviation: \n",
        "'''"
      ],
      "metadata": {
        "id": "uXT83NuuqDjw"
      },
      "execution_count": null,
      "outputs": []
    },
    {
      "cell_type": "code",
      "source": [
        "pulse_star_train.info()"
      ],
      "metadata": {
        "colab": {
          "base_uri": "https://localhost:8080/"
        },
        "id": "gDSwlihYqsnV",
        "outputId": "a4afa5a0-6743-4dfe-ce0b-75a6717e1e82"
      },
      "execution_count": 5,
      "outputs": [
        {
          "output_type": "stream",
          "name": "stdout",
          "text": [
            "<class 'pandas.core.frame.DataFrame'>\n",
            "RangeIndex: 5370 entries, 0 to 5369\n",
            "Data columns (total 9 columns):\n",
            " #   Column                                         Non-Null Count  Dtype  \n",
            "---  ------                                         --------------  -----  \n",
            " 0    Mean of the integrated profile                5370 non-null   float64\n",
            " 1    Standard deviation of the integrated profile  5370 non-null   float64\n",
            " 2    Excess kurtosis of the integrated profile     4603 non-null   float64\n",
            " 3    Skewness of the integrated profile            5370 non-null   float64\n",
            " 4    Mean of the DM-SNR curve                      5370 non-null   float64\n",
            " 5    Standard deviation of the DM-SNR curve        4846 non-null   float64\n",
            " 6    Excess kurtosis of the DM-SNR curve           5370 non-null   float64\n",
            " 7    Skewness of the DM-SNR curve                  5126 non-null   float64\n",
            " 8   target_class                                   0 non-null      float64\n",
            "dtypes: float64(9)\n",
            "memory usage: 377.7 KB\n"
          ]
        }
      ]
    },
    {
      "cell_type": "code",
      "source": [
        "# Somando todos os valores NULL\n",
        "pulse_star_train.isna().sum()"
      ],
      "metadata": {
        "colab": {
          "base_uri": "https://localhost:8080/"
        },
        "id": "Zqrjxlxxt5nb",
        "outputId": "264ef5d2-1bee-48c8-ad2e-29d37c060a83"
      },
      "execution_count": 6,
      "outputs": [
        {
          "output_type": "execute_result",
          "data": {
            "text/plain": [
              " Mean of the integrated profile                     0\n",
              " Standard deviation of the integrated profile       0\n",
              " Excess kurtosis of the integrated profile        767\n",
              " Skewness of the integrated profile                 0\n",
              " Mean of the DM-SNR curve                           0\n",
              " Standard deviation of the DM-SNR curve           524\n",
              " Excess kurtosis of the DM-SNR curve                0\n",
              " Skewness of the DM-SNR curve                     244\n",
              "target_class                                     5370\n",
              "dtype: int64"
            ]
          },
          "metadata": {},
          "execution_count": 6
        }
      ]
    },
    {
      "cell_type": "code",
      "source": [
        "# Printando o nome das colunas do dataset atual\n",
        "print('Nomes das colunas atualmente no dataset: ', pulse_star_train.columns)"
      ],
      "metadata": {
        "colab": {
          "base_uri": "https://localhost:8080/"
        },
        "id": "WzeUJPurOUw0",
        "outputId": "418f9d37-e59b-4bf9-e248-9cd5b61f8469"
      },
      "execution_count": 7,
      "outputs": [
        {
          "output_type": "stream",
          "name": "stdout",
          "text": [
            "Nomes das colunas atualmente no dataset:  Index([' Mean of the integrated profile',\n",
            "       ' Standard deviation of the integrated profile',\n",
            "       ' Excess kurtosis of the integrated profile',\n",
            "       ' Skewness of the integrated profile', ' Mean of the DM-SNR curve',\n",
            "       ' Standard deviation of the DM-SNR curve',\n",
            "       ' Excess kurtosis of the DM-SNR curve', ' Skewness of the DM-SNR curve',\n",
            "       'target_class'],\n",
            "      dtype='object')\n"
          ]
        }
      ]
    },
    {
      "cell_type": "code",
      "source": [
        "# Renomeando colunas para uso posterior; Vou atribuir o dataframe com as colunas renomeadas a uma nova variável;\n",
        "ps_train = pulse_star_train.rename(columns={' Mean of the integrated profile': 'mean_integrated_profile', \n",
        "                                            ' Standard deviation of the integrated profile': 'std_deviation_integrated_profile', \n",
        "                                            ' Excess kurtosis of the integrated profile':'excess_kurtosis_integrated_profile',\n",
        "                                            ' Skewness of the integrated profile':'skewness_integrated_profile', \n",
        "                                            ' Mean of the DM-SNR curve':'mean_dmsnr_curve', \n",
        "                                            ' Standard deviation of the DM-SNR curve':'std_deviation_dmsnr_curve',\n",
        "                                            ' Excess kurtosis of the DM-SNR curve':'excess_kurtosis_dmsnr_curve', \n",
        "                                            ' Skewness of the DM-SNR curve':'skewness_dmsnr_curve', \n",
        "                                            ' target_class':'is_pulse_star'})\n"
      ],
      "metadata": {
        "id": "KzFjV6NVO2S2"
      },
      "execution_count": 8,
      "outputs": []
    },
    {
      "cell_type": "code",
      "source": [
        "# Colunas com novos nomes\n",
        "ps_train.columns"
      ],
      "metadata": {
        "colab": {
          "base_uri": "https://localhost:8080/"
        },
        "id": "f0SGSlMRRAzx",
        "outputId": "af4a075f-3028-45f1-c936-d850aaac562c"
      },
      "execution_count": 9,
      "outputs": [
        {
          "output_type": "execute_result",
          "data": {
            "text/plain": [
              "Index(['mean_integrated_profile', 'std_deviation_integrated_profile',\n",
              "       'excess_kurtosis_integrated_profile', 'skewness_integrated_profile',\n",
              "       'mean_dmsnr_curve', 'std_deviation_dmsnr_curve',\n",
              "       'excess_kurtosis_dmsnr_curve', 'skewness_dmsnr_curve', 'target_class'],\n",
              "      dtype='object')"
            ]
          },
          "metadata": {},
          "execution_count": 9
        }
      ]
    },
    {
      "cell_type": "code",
      "source": [
        "# Verificando valores faltantes nas colunas\n",
        "ps_train.isna().sum()"
      ],
      "metadata": {
        "colab": {
          "base_uri": "https://localhost:8080/"
        },
        "id": "0GMFgW-UURKm",
        "outputId": "3d55b0ab-3896-4254-c93b-b865aac40419"
      },
      "execution_count": 10,
      "outputs": [
        {
          "output_type": "execute_result",
          "data": {
            "text/plain": [
              "mean_integrated_profile                  0\n",
              "std_deviation_integrated_profile         0\n",
              "excess_kurtosis_integrated_profile     767\n",
              "skewness_integrated_profile              0\n",
              "mean_dmsnr_curve                         0\n",
              "std_deviation_dmsnr_curve              524\n",
              "excess_kurtosis_dmsnr_curve              0\n",
              "skewness_dmsnr_curve                   244\n",
              "target_class                          5370\n",
              "dtype: int64"
            ]
          },
          "metadata": {},
          "execution_count": 10
        }
      ]
    },
    {
      "cell_type": "code",
      "source": [
        "# Três colunas possuem valores faltantes:\n",
        "# excess_kurtosis_integrated_profile\n",
        "# std_deviation_dmsnr_curve \n",
        "# skewness_dmsnr_curve\n",
        "\n",
        "# Analisando a coluna excess_kurtosis_integrated_profile\n",
        "print(\"\\nAnalisando o atributo excess_kurtosis_integrated_profile:\")\n",
        "print(ps_train[\"excess_kurtosis_integrated_profile\"].describe())\n",
        "ps_train.hist(column='excess_kurtosis_integrated_profile',\n",
        "                   figsize=(9,6),\n",
        "                   bins=20)\n"
      ],
      "metadata": {
        "colab": {
          "base_uri": "https://localhost:8080/",
          "height": 615
        },
        "id": "lpdl4gpLUdy_",
        "outputId": "85eea312-3f3d-4999-85db-791207c6d8e9"
      },
      "execution_count": 11,
      "outputs": [
        {
          "output_type": "stream",
          "name": "stdout",
          "text": [
            "\n",
            "Analisando o atributo excess_kurtosis_integrated_profile:\n",
            "count    4603.000000\n",
            "mean        0.483676\n",
            "std         1.076893\n",
            "min        -1.876011\n",
            "25%         0.030643\n",
            "50%         0.227314\n",
            "75%         0.475056\n",
            "max         7.608370\n",
            "Name: excess_kurtosis_integrated_profile, dtype: float64\n"
          ]
        },
        {
          "output_type": "execute_result",
          "data": {
            "text/plain": [
              "array([[<matplotlib.axes._subplots.AxesSubplot object at 0x7f5f53437550>]],\n",
              "      dtype=object)"
            ]
          },
          "metadata": {},
          "execution_count": 11
        },
        {
          "output_type": "display_data",
          "data": {
            "image/png": "[encoded data removed]",
            "text/plain": [
              "<Figure size 648x432 with 1 Axes>"
            ]
          },
          "metadata": {
            "needs_background": "light"
          }
        }
      ]
    },
    {
      "cell_type": "code",
      "source": [
        "# Preenchendo os valores faltantes da coluna com a mediana\n",
        "mediana = np.median([el for el in ps_train[\"excess_kurtosis_integrated_profile\"] if (np.isnan(el) == False)])\n",
        "\n",
        "novo_valor = np.where(ps_train[\"excess_kurtosis_integrated_profile\"].isnull(),\n",
        "                   mediana,                      \n",
        "                   ps_train[\"excess_kurtosis_integrated_profile\"])\n",
        "ps_train[\"excess_kurtosis_integrated_profile\"] = novo_valor\n",
        "\n",
        "print(ps_train[\"excess_kurtosis_integrated_profile\"].describe())\n",
        "ps_train.hist(column='excess_kurtosis_integrated_profile',\n",
        "                   figsize=(9,6),\n",
        "                   bins=20)\n"
      ],
      "metadata": {
        "colab": {
          "base_uri": "https://localhost:8080/",
          "height": 581
        },
        "id": "XsdY8BNoySWj",
        "outputId": "c2641130-08ed-4d4e-8a46-9f73c4b2cfc6"
      },
      "execution_count": 12,
      "outputs": [
        {
          "output_type": "stream",
          "name": "stdout",
          "text": [
            "count    5370.000000\n",
            "mean        0.447060\n",
            "std         1.001037\n",
            "min        -1.876011\n",
            "25%         0.062973\n",
            "50%         0.227314\n",
            "75%         0.420555\n",
            "max         7.608370\n",
            "Name: excess_kurtosis_integrated_profile, dtype: float64\n"
          ]
        },
        {
          "output_type": "execute_result",
          "data": {
            "text/plain": [
              "array([[<matplotlib.axes._subplots.AxesSubplot object at 0x7f5f53334910>]],\n",
              "      dtype=object)"
            ]
          },
          "metadata": {},
          "execution_count": 12
        },
        {
          "output_type": "display_data",
          "data": {
            "image/png": "[encoded data removed]",
            "text/plain": [
              "<Figure size 648x432 with 1 Axes>"
            ]
          },
          "metadata": {
            "needs_background": "light"
          }
        }
      ]
    },
    {
      "cell_type": "code",
      "source": [
        "# Analisando a coluna std_deviation_dmsnr_curve\n",
        "print(\"\\nAnalisando o atributo std_deviation_dmsnr_curve:\")\n",
        "print(ps_train[\"std_deviation_dmsnr_curve\"].describe())\n",
        "ps_train.hist(column='std_deviation_dmsnr_curve',\n",
        "                   figsize=(9,6),\n",
        "                   bins=20)"
      ],
      "metadata": {
        "colab": {
          "base_uri": "https://localhost:8080/",
          "height": 615
        },
        "id": "naZO-E4kwPX_",
        "outputId": "abfae196-c4d5-4e8c-e3c6-30caa4ff8e11"
      },
      "execution_count": 13,
      "outputs": [
        {
          "output_type": "stream",
          "name": "stdout",
          "text": [
            "\n",
            "Analisando o atributo std_deviation_dmsnr_curve:\n",
            "count    4846.000000\n",
            "mean       26.425371\n",
            "std        19.384489\n",
            "min         7.370432\n",
            "25%        14.555826\n",
            "50%        18.549670\n",
            "75%        28.681787\n",
            "max       109.712649\n",
            "Name: std_deviation_dmsnr_curve, dtype: float64\n"
          ]
        },
        {
          "output_type": "execute_result",
          "data": {
            "text/plain": [
              "array([[<matplotlib.axes._subplots.AxesSubplot object at 0x7f5f53473810>]],\n",
              "      dtype=object)"
            ]
          },
          "metadata": {},
          "execution_count": 13
        },
        {
          "output_type": "display_data",
          "data": {
            "image/png": "[encoded data removed]",
            "text/plain": [
              "<Figure size 648x432 with 1 Axes>"
            ]
          },
          "metadata": {
            "needs_background": "light"
          }
        }
      ]
    },
    {
      "cell_type": "code",
      "source": [
        "# Preenchendo os valores faltantes da coluna com a mediana\n",
        "mediana = np.median([el for el in ps_train[\"std_deviation_dmsnr_curve\"] if (np.isnan(el) == False)])\n",
        "\n",
        "novo_valor = np.where(ps_train[\"std_deviation_dmsnr_curve\"].isnull(),\n",
        "                   mediana,                      \n",
        "                   ps_train[\"std_deviation_dmsnr_curve\"])\n",
        "ps_train[\"std_deviation_dmsnr_curve\"] = novo_valor\n",
        "\n",
        "print(ps_train[\"std_deviation_dmsnr_curve\"].describe())\n",
        "ps_train.hist(column='std_deviation_dmsnr_curve',\n",
        "                   figsize=(9,6),\n",
        "                   bins=20)"
      ],
      "metadata": {
        "colab": {
          "base_uri": "https://localhost:8080/",
          "height": 581
        },
        "id": "YCrxvtkOzkm-",
        "outputId": "cc64029f-2e3a-4819-b8bf-047fb4368031"
      },
      "execution_count": 14,
      "outputs": [
        {
          "output_type": "stream",
          "name": "stdout",
          "text": [
            "count    5370.000000\n",
            "mean       25.656867\n",
            "std        18.562013\n",
            "min         7.370432\n",
            "25%        14.945645\n",
            "50%        18.549670\n",
            "75%        26.735818\n",
            "max       109.712649\n",
            "Name: std_deviation_dmsnr_curve, dtype: float64\n"
          ]
        },
        {
          "output_type": "execute_result",
          "data": {
            "text/plain": [
              "array([[<matplotlib.axes._subplots.AxesSubplot object at 0x7f5f52d54e50>]],\n",
              "      dtype=object)"
            ]
          },
          "metadata": {},
          "execution_count": 14
        },
        {
          "output_type": "display_data",
          "data": {
            "image/png": "[encoded data removed]",
            "text/plain": [
              "<Figure size 648x432 with 1 Axes>"
            ]
          },
          "metadata": {
            "needs_background": "light"
          }
        }
      ]
    },
    {
      "cell_type": "code",
      "source": [
        "# Analisando a coluna skewness_dmsnr_curve\n",
        "print(\"\\nAnalisando o atributo skewness_dmsnr_curve:\")\n",
        "print(ps_train[\"skewness_dmsnr_curve\"].describe())\n",
        "ps_train.hist(column='skewness_dmsnr_curve',\n",
        "                   figsize=(9,6),\n",
        "                   bins=20)"
      ],
      "metadata": {
        "colab": {
          "base_uri": "https://localhost:8080/",
          "height": 615
        },
        "id": "Dk2amlZswazD",
        "outputId": "e0609a85-d119-4a14-a4b5-c5f3899b20e9"
      },
      "execution_count": 15,
      "outputs": [
        {
          "output_type": "stream",
          "name": "stdout",
          "text": [
            "\n",
            "Analisando o atributo skewness_dmsnr_curve:\n",
            "count    5126.000000\n",
            "mean      102.869088\n",
            "std       104.748418\n",
            "min        -1.964998\n",
            "25%        33.817330\n",
            "50%        81.392046\n",
            "75%       136.893502\n",
            "max      1191.000837\n",
            "Name: skewness_dmsnr_curve, dtype: float64\n"
          ]
        },
        {
          "output_type": "execute_result",
          "data": {
            "text/plain": [
              "array([[<matplotlib.axes._subplots.AxesSubplot object at 0x7f5f52e66c50>]],\n",
              "      dtype=object)"
            ]
          },
          "metadata": {},
          "execution_count": 15
        },
        {
          "output_type": "display_data",
          "data": {
            "image/png": "[encoded data removed]",
            "text/plain": [
              "<Figure size 648x432 with 1 Axes>"
            ]
          },
          "metadata": {
            "needs_background": "light"
          }
        }
      ]
    },
    {
      "cell_type": "code",
      "source": [
        "# Preenchendo os valores faltantes da coluna com a mediana\n",
        "mediana = np.median([el for el in ps_train[\"skewness_dmsnr_curve\"] if (np.isnan(el) == False)])\n",
        "\n",
        "novo_valor = np.where(ps_train[\"skewness_dmsnr_curve\"].isnull(),\n",
        "                   mediana,                      \n",
        "                   ps_train[\"skewness_dmsnr_curve\"])\n",
        "ps_train[\"skewness_dmsnr_curve\"] = novo_valor\n",
        "\n",
        "print(ps_train[\"skewness_dmsnr_curve\"].describe())\n",
        "ps_train.hist(column='skewness_dmsnr_curve',\n",
        "                   figsize=(9,6),\n",
        "                   bins=20)"
      ],
      "metadata": {
        "colab": {
          "base_uri": "https://localhost:8080/",
          "height": 581
        },
        "id": "9mthr96mz4gq",
        "outputId": "1dde15e9-93e7-45cd-e9c2-2739f71546cf"
      },
      "execution_count": 16,
      "outputs": [
        {
          "output_type": "stream",
          "name": "stdout",
          "text": [
            "count    5370.000000\n",
            "mean      101.893222\n",
            "std       102.438256\n",
            "min        -1.964998\n",
            "25%        36.169523\n",
            "50%        81.392046\n",
            "75%       133.345697\n",
            "max      1191.000837\n",
            "Name: skewness_dmsnr_curve, dtype: float64\n"
          ]
        },
        {
          "output_type": "execute_result",
          "data": {
            "text/plain": [
              "array([[<matplotlib.axes._subplots.AxesSubplot object at 0x7f5f52bbd150>]],\n",
              "      dtype=object)"
            ]
          },
          "metadata": {},
          "execution_count": 16
        },
        {
          "output_type": "display_data",
          "data": {
            "image/png": "[encoded data removed]",
            "text/plain": [
              "<Figure size 648x432 with 1 Axes>"
            ]
          },
          "metadata": {
            "needs_background": "light"
          }
        }
      ]
    },
    {
      "cell_type": "code",
      "source": [
        "# Exbindo boxplt para lidar com outliers\n",
        "import matplotlib.pyplot as plt\n",
        "ps_train.plot(kind = \"box\" , subplots = True , figsize = (18,15) ,  layout = (3,3))\n",
        "plt.show()"
      ],
      "metadata": {
        "colab": {
          "base_uri": "https://localhost:8080/",
          "height": 866
        },
        "id": "wnvXARVt3sxm",
        "outputId": "33207f95-f82a-4e97-e998-a417f1349d6c"
      },
      "execution_count": 17,
      "outputs": [
        {
          "output_type": "display_data",
          "data": {
            "image/png": "[encoded data removed]",
            "text/plain": [
              "<Figure size 1296x1080 with 9 Axes>"
            ]
          },
          "metadata": {
            "needs_background": "light"
          }
        }
      ]
    },
    {
      "cell_type": "code",
      "source": [
        "# Tratando outliers a partir do metodo de Tukey\n",
        "def tukey_outliers(x):\n",
        "    \n",
        "    q1 = np.percentile(x, 25)\n",
        "    q3 = np.percentile(x, 75)\n",
        "    \n",
        "    interquartil = q3-q1 \n",
        "    \n",
        "    teto = q3 + 1.5*interquartil\n",
        "    piso = q1 - 1.5*interquartil\n",
        "    \n",
        "\n",
        "    return teto,piso"
      ],
      "metadata": {
        "id": "y_kwIJvKRzdA"
      },
      "execution_count": 18,
      "outputs": []
    },
    {
      "cell_type": "code",
      "source": [
        "# Iterando nas colunas para tratar os outliers\n",
        "for coluna in ps_train.columns[:-1]:\n",
        "    teto,piso=tukey_outliers(ps_train[coluna])\n",
        "    ps_train[coluna]=np.where(ps_train[coluna]>teto,teto,ps_train[coluna])\n",
        "    ps_train[coluna]=np.where(ps_train[coluna]<piso,piso,ps_train[coluna])"
      ],
      "metadata": {
        "id": "EeX8l20tTEIj"
      },
      "execution_count": 19,
      "outputs": []
    },
    {
      "cell_type": "code",
      "source": [
        "# Plotando resultado do tratamento\n",
        "ps_train.plot(kind = \"box\" , subplots = True , figsize = (18,15) ,  layout = (3,3))\n",
        "plt.show()"
      ],
      "metadata": {
        "colab": {
          "base_uri": "https://localhost:8080/",
          "height": 864
        },
        "id": "rlKFcflnUMcC",
        "outputId": "974b93c7-42df-4cb5-963b-26b1434a8137"
      },
      "execution_count": 20,
      "outputs": [
        {
          "output_type": "display_data",
          "data": {
            "image/png": "[encoded data removed]",
            "text/plain": [
              "<Figure size 1296x1080 with 9 Axes>"
            ]
          },
          "metadata": {
            "needs_background": "light"
          }
        }
      ]
    },
    {
      "cell_type": "code",
      "source": [
        "# Salvar arquivo tratado para uso nos modelos\n",
        "type(ps_train)\n",
        "ps_train.to_csv(r'pulsar_data_test_clean.csv', index = False)\n",
        "\n"
      ],
      "metadata": {
        "id": "mTI6oHL0RB40"
      },
      "execution_count": 21,
      "outputs": []
    }
  ]
}