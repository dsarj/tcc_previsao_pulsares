{
  "nbformat": 4,
  "nbformat_minor": 0,
  "metadata": {
    "colab": {
      "name": "pulse_star.ipynb",
      "provenance": [],
      "collapsed_sections": [],
      "authorship_tag": "ABX9TyN9aD07V0CRjqP4fKdDPFj3",
      "include_colab_link": true
    },
    "kernelspec": {
      "name": "python3",
      "display_name": "Python 3"
    },
    "language_info": {
      "name": "python"
    }
  },
  "cells": [
    {
      "cell_type": "markdown",
      "metadata": {
        "id": "view-in-github",
        "colab_type": "text"
      },
      "source": [
        "<a href=\"https://colab.research.google.com/github/dsarj/tcc_previsao_pulsares/blob/main/pulse_star.ipynb\" target=\"_parent\"><img src=\"https://colab.research.google.com/assets/colab-badge.svg\" alt=\"Open In Colab\"/></a>"
      ]
    },
    {
      "cell_type": "code",
      "execution_count": 1,
      "metadata": {
        "id": "YteWNYZFgfkt"
      },
      "outputs": [],
      "source": [
        "import pandas as pd\n",
        "import numpy as np\n",
        "from sklearn.tree import DecisionTreeRegressor\n",
        "from sklearn.model_selection import train_test_split\n",
        "from sklearn.metrics import mean_absolute_error\n",
        "from sklearn.ensemble import RandomForestRegressor\n",
        "from google.colab import files"
      ]
    },
    {
      "cell_type": "code",
      "source": [
        "# Caminho do arquivo a ser lido\n",
        "data = files.upload()\n",
        "\n",
        "# Armazenando o conteudo do arquivo lido na variável data\n",
        "# train_data = pd.read_csv(file_path)"
      ],
      "metadata": {
        "colab": {
          "resources": {
            "http://localhost:8080/nbextensions/google.colab/files.js": {
              "data": "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",
              "ok": true,
              "headers": [
                [
                  "content-type",
                  "application/javascript"
                ]
              ],
              "status": 200,
              "status_text": ""
            }
          },
          "base_uri": "https://localhost:8080/",
          "height": 74
        },
        "id": "Vn6g6UpTgnSi",
        "outputId": "dbc1ef8e-efdc-4b02-8f44-b5d8dfe1544b"
      },
      "execution_count": 2,
      "outputs": [
        {
          "output_type": "display_data",
          "data": {
            "text/plain": [
              "<IPython.core.display.HTML object>"
            ],
            "text/html": [
              "\n",
              "     <input type=\"file\" id=\"files-dcae36c0-2e43-4dbe-8faf-741d438f473e\" name=\"files[]\" multiple disabled\n",
              "        style=\"border:none\" />\n",
              "     <output id=\"result-dcae36c0-2e43-4dbe-8faf-741d438f473e\">\n",
              "      Upload widget is only available when the cell has been executed in the\n",
              "      current browser session. Please rerun this cell to enable.\n",
              "      </output>\n",
              "      <script src=\"/nbextensions/google.colab/files.js\"></script> "
            ]
          },
          "metadata": {}
        },
        {
          "output_type": "stream",
          "name": "stdout",
          "text": [
            "Saving pulsar_data_train.csv to pulsar_data_train.csv\n"
          ]
        }
      ]
    },
    {
      "cell_type": "code",
      "source": [
        "#Exibindo dimensões campos e tipos de dados\n",
        "pulse_star_train = pd.read_csv(next(iter(data.keys())))\n",
        "\n",
        "print(\"\\nDimensões de Pulse Star:\\n{0}\\n\".format(pulse_star_train.shape))\n",
        "print(\"\\nCampos de Pulse Star:\\n{0}\\n\".format(list(pulse_star_train .keys())))\n",
        "print(\"\\nTipos dos dados:\\n{0}\\n\".format(pulse_star_train .dtypes))\n",
        "\n",
        "# Printando estatísticas iniciais em tabela bruta\n",
        "pulse_star_train.describe()"
      ],
      "metadata": {
        "colab": {
          "base_uri": "https://localhost:8080/",
          "height": 763
        },
        "id": "dzXhv09xguKx",
        "outputId": "82ace139-123d-4957-c937-876ff0cc1ebe"
      },
      "execution_count": 3,
      "outputs": [
        {
          "output_type": "stream",
          "name": "stdout",
          "text": [
            "\n",
            "Dimensões de Pulse Star:\n",
            "(12528, 9)\n",
            "\n",
            "\n",
            "Campos de Pulse Star:\n",
            "[' Mean of the integrated profile', ' Standard deviation of the integrated profile', ' Excess kurtosis of the integrated profile', ' Skewness of the integrated profile', ' Mean of the DM-SNR curve', ' Standard deviation of the DM-SNR curve', ' Excess kurtosis of the DM-SNR curve', ' Skewness of the DM-SNR curve', 'target_class']\n",
            "\n",
            "\n",
            "Tipos dos dados:\n",
            " Mean of the integrated profile                  float64\n",
            " Standard deviation of the integrated profile    float64\n",
            " Excess kurtosis of the integrated profile       float64\n",
            " Skewness of the integrated profile              float64\n",
            " Mean of the DM-SNR curve                        float64\n",
            " Standard deviation of the DM-SNR curve          float64\n",
            " Excess kurtosis of the DM-SNR curve             float64\n",
            " Skewness of the DM-SNR curve                    float64\n",
            "target_class                                     float64\n",
            "dtype: object\n",
            "\n"
          ]
        },
        {
          "output_type": "execute_result",
          "data": {
            "text/plain": [
              "        Mean of the integrated profile  \\\n",
              "count                     12528.000000   \n",
              "mean                        111.041841   \n",
              "std                          25.672828   \n",
              "min                           5.812500   \n",
              "25%                         100.871094   \n",
              "50%                         115.183594   \n",
              "75%                         127.109375   \n",
              "max                         189.734375   \n",
              "\n",
              "        Standard deviation of the integrated profile  \\\n",
              "count                                   12528.000000   \n",
              "mean                                       46.521437   \n",
              "std                                         6.801077   \n",
              "min                                        24.772042   \n",
              "25%                                        42.362222   \n",
              "50%                                        46.931022   \n",
              "75%                                        50.979103   \n",
              "max                                        91.808628   \n",
              "\n",
              "        Excess kurtosis of the integrated profile  \\\n",
              "count                                10793.000000   \n",
              "mean                                     0.478548   \n",
              "std                                      1.064708   \n",
              "min                                     -1.738021   \n",
              "25%                                      0.024652   \n",
              "50%                                      0.223678   \n",
              "75%                                      0.473125   \n",
              "max                                      8.069522   \n",
              "\n",
              "        Skewness of the integrated profile   Mean of the DM-SNR curve  \\\n",
              "count                         12528.000000               12528.000000   \n",
              "mean                              1.778431                  12.674758   \n",
              "std                               6.208450                  29.613230   \n",
              "min                              -1.791886                   0.213211   \n",
              "25%                              -0.188142                   1.910535   \n",
              "50%                               0.203317                   2.792642   \n",
              "75%                               0.932374                   5.413253   \n",
              "max                              68.101622                 222.421405   \n",
              "\n",
              "        Standard deviation of the DM-SNR curve  \\\n",
              "count                             11350.000000   \n",
              "mean                                 26.351318   \n",
              "std                                  19.610842   \n",
              "min                                   7.370432   \n",
              "25%                                  14.404353   \n",
              "50%                                  18.412402   \n",
              "75%                                  28.337418   \n",
              "max                                 110.642211   \n",
              "\n",
              "        Excess kurtosis of the DM-SNR curve   Skewness of the DM-SNR curve  \\\n",
              "count                          12528.000000                   11903.000000   \n",
              "mean                               8.333489                     105.525779   \n",
              "std                                4.535783                     107.399585   \n",
              "min                               -3.139270                      -1.976976   \n",
              "25%                                5.803063                      35.199899   \n",
              "50%                                8.451097                      83.126301   \n",
              "75%                               10.727927                     139.997850   \n",
              "max                               34.539844                    1191.000837   \n",
              "\n",
              "       target_class  \n",
              "count  12528.000000  \n",
              "mean       0.092034  \n",
              "std        0.289085  \n",
              "min        0.000000  \n",
              "25%        0.000000  \n",
              "50%        0.000000  \n",
              "75%        0.000000  \n",
              "max        1.000000  "
            ],
            "text/html": [
              "\n",
              "  <div id=\"df-f4460b06-8eb6-4cc9-bb25-c9a4db1dd891\">\n",
              "    <div class=\"colab-df-container\">\n",
              "      <div>\n",
              "<style scoped>\n",
              "    .dataframe tbody tr th:only-of-type {\n",
              "        vertical-align: middle;\n",
              "    }\n",
              "\n",
              "    .dataframe tbody tr th {\n",
              "        vertical-align: top;\n",
              "    }\n",
              "\n",
              "    .dataframe thead th {\n",
              "        text-align: right;\n",
              "    }\n",
              "</style>\n",
              "<table border=\"1\" class=\"dataframe\">\n",
              "  <thead>\n",
              "    <tr style=\"text-align: right;\">\n",
              "      <th></th>\n",
              "      <th>Mean of the integrated profile</th>\n",
              "      <th>Standard deviation of the integrated profile</th>\n",
              "      <th>Excess kurtosis of the integrated profile</th>\n",
              "      <th>Skewness of the integrated profile</th>\n",
              "      <th>Mean of the DM-SNR curve</th>\n",
              "      <th>Standard deviation of the DM-SNR curve</th>\n",
              "      <th>Excess kurtosis of the DM-SNR curve</th>\n",
              "      <th>Skewness of the DM-SNR curve</th>\n",
              "      <th>target_class</th>\n",
              "    </tr>\n",
              "  </thead>\n",
              "  <tbody>\n",
              "    <tr>\n",
              "      <th>count</th>\n",
              "      <td>12528.000000</td>\n",
              "      <td>12528.000000</td>\n",
              "      <td>10793.000000</td>\n",
              "      <td>12528.000000</td>\n",
              "      <td>12528.000000</td>\n",
              "      <td>11350.000000</td>\n",
              "      <td>12528.000000</td>\n",
              "      <td>11903.000000</td>\n",
              "      <td>12528.000000</td>\n",
              "    </tr>\n",
              "    <tr>\n",
              "      <th>mean</th>\n",
              "      <td>111.041841</td>\n",
              "      <td>46.521437</td>\n",
              "      <td>0.478548</td>\n",
              "      <td>1.778431</td>\n",
              "      <td>12.674758</td>\n",
              "      <td>26.351318</td>\n",
              "      <td>8.333489</td>\n",
              "      <td>105.525779</td>\n",
              "      <td>0.092034</td>\n",
              "    </tr>\n",
              "    <tr>\n",
              "      <th>std</th>\n",
              "      <td>25.672828</td>\n",
              "      <td>6.801077</td>\n",
              "      <td>1.064708</td>\n",
              "      <td>6.208450</td>\n",
              "      <td>29.613230</td>\n",
              "      <td>19.610842</td>\n",
              "      <td>4.535783</td>\n",
              "      <td>107.399585</td>\n",
              "      <td>0.289085</td>\n",
              "    </tr>\n",
              "    <tr>\n",
              "      <th>min</th>\n",
              "      <td>5.812500</td>\n",
              "      <td>24.772042</td>\n",
              "      <td>-1.738021</td>\n",
              "      <td>-1.791886</td>\n",
              "      <td>0.213211</td>\n",
              "      <td>7.370432</td>\n",
              "      <td>-3.139270</td>\n",
              "      <td>-1.976976</td>\n",
              "      <td>0.000000</td>\n",
              "    </tr>\n",
              "    <tr>\n",
              "      <th>25%</th>\n",
              "      <td>100.871094</td>\n",
              "      <td>42.362222</td>\n",
              "      <td>0.024652</td>\n",
              "      <td>-0.188142</td>\n",
              "      <td>1.910535</td>\n",
              "      <td>14.404353</td>\n",
              "      <td>5.803063</td>\n",
              "      <td>35.199899</td>\n",
              "      <td>0.000000</td>\n",
              "    </tr>\n",
              "    <tr>\n",
              "      <th>50%</th>\n",
              "      <td>115.183594</td>\n",
              "      <td>46.931022</td>\n",
              "      <td>0.223678</td>\n",
              "      <td>0.203317</td>\n",
              "      <td>2.792642</td>\n",
              "      <td>18.412402</td>\n",
              "      <td>8.451097</td>\n",
              "      <td>83.126301</td>\n",
              "      <td>0.000000</td>\n",
              "    </tr>\n",
              "    <tr>\n",
              "      <th>75%</th>\n",
              "      <td>127.109375</td>\n",
              "      <td>50.979103</td>\n",
              "      <td>0.473125</td>\n",
              "      <td>0.932374</td>\n",
              "      <td>5.413253</td>\n",
              "      <td>28.337418</td>\n",
              "      <td>10.727927</td>\n",
              "      <td>139.997850</td>\n",
              "      <td>0.000000</td>\n",
              "    </tr>\n",
              "    <tr>\n",
              "      <th>max</th>\n",
              "      <td>189.734375</td>\n",
              "      <td>91.808628</td>\n",
              "      <td>8.069522</td>\n",
              "      <td>68.101622</td>\n",
              "      <td>222.421405</td>\n",
              "      <td>110.642211</td>\n",
              "      <td>34.539844</td>\n",
              "      <td>1191.000837</td>\n",
              "      <td>1.000000</td>\n",
              "    </tr>\n",
              "  </tbody>\n",
              "</table>\n",
              "</div>\n",
              "      <button class=\"colab-df-convert\" onclick=\"convertToInteractive('df-f4460b06-8eb6-4cc9-bb25-c9a4db1dd891')\"\n",
              "              title=\"Convert this dataframe to an interactive table.\"\n",
              "              style=\"display:none;\">\n",
              "        \n",
              "  <svg xmlns=\"http://www.w3.org/2000/svg\" height=\"24px\"viewBox=\"0 0 24 24\"\n",
              "       width=\"24px\">\n",
              "    <path d=\"M0 0h24v24H0V0z\" fill=\"none\"/>\n",
              "    <path d=\"M18.56 5.44l.94 2.06.94-2.06 2.06-.94-2.06-.94-.94-2.06-.94 2.06-2.06.94zm-11 1L8.5 8.5l.94-2.06 2.06-.94-2.06-.94L8.5 2.5l-.94 2.06-2.06.94zm10 10l.94 2.06.94-2.06 2.06-.94-2.06-.94-.94-2.06-.94 2.06-2.06.94z\"/><path d=\"M17.41 7.96l-1.37-1.37c-.4-.4-.92-.59-1.43-.59-.52 0-1.04.2-1.43.59L10.3 9.45l-7.72 7.72c-.78.78-.78 2.05 0 2.83L4 21.41c.39.39.9.59 1.41.59.51 0 1.02-.2 1.41-.59l7.78-7.78 2.81-2.81c.8-.78.8-2.07 0-2.86zM5.41 20L4 18.59l7.72-7.72 1.47 1.35L5.41 20z\"/>\n",
              "  </svg>\n",
              "      </button>\n",
              "      \n",
              "  <style>\n",
              "    .colab-df-container {\n",
              "      display:flex;\n",
              "      flex-wrap:wrap;\n",
              "      gap: 12px;\n",
              "    }\n",
              "\n",
              "    .colab-df-convert {\n",
              "      background-color: #E8F0FE;\n",
              "      border: none;\n",
              "      border-radius: 50%;\n",
              "      cursor: pointer;\n",
              "      display: none;\n",
              "      fill: #1967D2;\n",
              "      height: 32px;\n",
              "      padding: 0 0 0 0;\n",
              "      width: 32px;\n",
              "    }\n",
              "\n",
              "    .colab-df-convert:hover {\n",
              "      background-color: #E2EBFA;\n",
              "      box-shadow: 0px 1px 2px rgba(60, 64, 67, 0.3), 0px 1px 3px 1px rgba(60, 64, 67, 0.15);\n",
              "      fill: #174EA6;\n",
              "    }\n",
              "\n",
              "    [theme=dark] .colab-df-convert {\n",
              "      background-color: #3B4455;\n",
              "      fill: #D2E3FC;\n",
              "    }\n",
              "\n",
              "    [theme=dark] .colab-df-convert:hover {\n",
              "      background-color: #434B5C;\n",
              "      box-shadow: 0px 1px 3px 1px rgba(0, 0, 0, 0.15);\n",
              "      filter: drop-shadow(0px 1px 2px rgba(0, 0, 0, 0.3));\n",
              "      fill: #FFFFFF;\n",
              "    }\n",
              "  </style>\n",
              "\n",
              "      <script>\n",
              "        const buttonEl =\n",
              "          document.querySelector('#df-f4460b06-8eb6-4cc9-bb25-c9a4db1dd891 button.colab-df-convert');\n",
              "        buttonEl.style.display =\n",
              "          google.colab.kernel.accessAllowed ? 'block' : 'none';\n",
              "\n",
              "        async function convertToInteractive(key) {\n",
              "          const element = document.querySelector('#df-f4460b06-8eb6-4cc9-bb25-c9a4db1dd891');\n",
              "          const dataTable =\n",
              "            await google.colab.kernel.invokeFunction('convertToInteractive',\n",
              "                                                     [key], {});\n",
              "          if (!dataTable) return;\n",
              "\n",
              "          const docLinkHtml = 'Like what you see? Visit the ' +\n",
              "            '<a target=\"_blank\" href=https://colab.research.google.com/notebooks/data_table.ipynb>data table notebook</a>'\n",
              "            + ' to learn more about interactive tables.';\n",
              "          element.innerHTML = '';\n",
              "          dataTable['output_type'] = 'display_data';\n",
              "          await google.colab.output.renderOutput(dataTable, element);\n",
              "          const docLink = document.createElement('div');\n",
              "          docLink.innerHTML = docLinkHtml;\n",
              "          element.appendChild(docLink);\n",
              "        }\n",
              "      </script>\n",
              "    </div>\n",
              "  </div>\n",
              "  "
            ]
          },
          "metadata": {},
          "execution_count": 3
        }
      ]
    },
    {
      "cell_type": "code",
      "source": [
        "# Obtendo primeiros dados da tabela\n",
        "pulse_star_train.head()"
      ],
      "metadata": {
        "colab": {
          "base_uri": "https://localhost:8080/",
          "height": 285
        },
        "id": "UMGhJPiFp1-L",
        "outputId": "4bb60637-b433-485d-ee3a-065ca81e4d88"
      },
      "execution_count": 4,
      "outputs": [
        {
          "output_type": "execute_result",
          "data": {
            "text/plain": [
              "    Mean of the integrated profile  \\\n",
              "0                       121.156250   \n",
              "1                        76.968750   \n",
              "2                       130.585938   \n",
              "3                       156.398438   \n",
              "4                        84.804688   \n",
              "\n",
              "    Standard deviation of the integrated profile  \\\n",
              "0                                      48.372971   \n",
              "1                                      36.175557   \n",
              "2                                      53.229534   \n",
              "3                                      48.865942   \n",
              "4                                      36.117659   \n",
              "\n",
              "    Excess kurtosis of the integrated profile  \\\n",
              "0                                    0.375485   \n",
              "1                                    0.712898   \n",
              "2                                    0.133408   \n",
              "3                                   -0.215989   \n",
              "4                                    0.825013   \n",
              "\n",
              "    Skewness of the integrated profile   Mean of the DM-SNR curve  \\\n",
              "0                            -0.013165                   3.168896   \n",
              "1                             3.388719                   2.399666   \n",
              "2                            -0.297242                   2.743311   \n",
              "3                            -0.171294                  17.471572   \n",
              "4                             3.274125                   2.790134   \n",
              "\n",
              "    Standard deviation of the DM-SNR curve  \\\n",
              "0                                18.399367   \n",
              "1                                17.570997   \n",
              "2                                22.362553   \n",
              "3                                      NaN   \n",
              "4                                20.618009   \n",
              "\n",
              "    Excess kurtosis of the DM-SNR curve   Skewness of the DM-SNR curve  \\\n",
              "0                              7.449874                      65.159298   \n",
              "1                              9.414652                     102.722975   \n",
              "2                              8.508364                      74.031324   \n",
              "3                              2.958066                       7.197842   \n",
              "4                              8.405008                      76.291128   \n",
              "\n",
              "   target_class  \n",
              "0           0.0  \n",
              "1           0.0  \n",
              "2           0.0  \n",
              "3           0.0  \n",
              "4           0.0  "
            ],
            "text/html": [
              "\n",
              "  <div id=\"df-cf9e98f7-eefe-44f5-a49d-e24c4f5b8a9f\">\n",
              "    <div class=\"colab-df-container\">\n",
              "      <div>\n",
              "<style scoped>\n",
              "    .dataframe tbody tr th:only-of-type {\n",
              "        vertical-align: middle;\n",
              "    }\n",
              "\n",
              "    .dataframe tbody tr th {\n",
              "        vertical-align: top;\n",
              "    }\n",
              "\n",
              "    .dataframe thead th {\n",
              "        text-align: right;\n",
              "    }\n",
              "</style>\n",
              "<table border=\"1\" class=\"dataframe\">\n",
              "  <thead>\n",
              "    <tr style=\"text-align: right;\">\n",
              "      <th></th>\n",
              "      <th>Mean of the integrated profile</th>\n",
              "      <th>Standard deviation of the integrated profile</th>\n",
              "      <th>Excess kurtosis of the integrated profile</th>\n",
              "      <th>Skewness of the integrated profile</th>\n",
              "      <th>Mean of the DM-SNR curve</th>\n",
              "      <th>Standard deviation of the DM-SNR curve</th>\n",
              "      <th>Excess kurtosis of the DM-SNR curve</th>\n",
              "      <th>Skewness of the DM-SNR curve</th>\n",
              "      <th>target_class</th>\n",
              "    </tr>\n",
              "  </thead>\n",
              "  <tbody>\n",
              "    <tr>\n",
              "      <th>0</th>\n",
              "      <td>121.156250</td>\n",
              "      <td>48.372971</td>\n",
              "      <td>0.375485</td>\n",
              "      <td>-0.013165</td>\n",
              "      <td>3.168896</td>\n",
              "      <td>18.399367</td>\n",
              "      <td>7.449874</td>\n",
              "      <td>65.159298</td>\n",
              "      <td>0.0</td>\n",
              "    </tr>\n",
              "    <tr>\n",
              "      <th>1</th>\n",
              "      <td>76.968750</td>\n",
              "      <td>36.175557</td>\n",
              "      <td>0.712898</td>\n",
              "      <td>3.388719</td>\n",
              "      <td>2.399666</td>\n",
              "      <td>17.570997</td>\n",
              "      <td>9.414652</td>\n",
              "      <td>102.722975</td>\n",
              "      <td>0.0</td>\n",
              "    </tr>\n",
              "    <tr>\n",
              "      <th>2</th>\n",
              "      <td>130.585938</td>\n",
              "      <td>53.229534</td>\n",
              "      <td>0.133408</td>\n",
              "      <td>-0.297242</td>\n",
              "      <td>2.743311</td>\n",
              "      <td>22.362553</td>\n",
              "      <td>8.508364</td>\n",
              "      <td>74.031324</td>\n",
              "      <td>0.0</td>\n",
              "    </tr>\n",
              "    <tr>\n",
              "      <th>3</th>\n",
              "      <td>156.398438</td>\n",
              "      <td>48.865942</td>\n",
              "      <td>-0.215989</td>\n",
              "      <td>-0.171294</td>\n",
              "      <td>17.471572</td>\n",
              "      <td>NaN</td>\n",
              "      <td>2.958066</td>\n",
              "      <td>7.197842</td>\n",
              "      <td>0.0</td>\n",
              "    </tr>\n",
              "    <tr>\n",
              "      <th>4</th>\n",
              "      <td>84.804688</td>\n",
              "      <td>36.117659</td>\n",
              "      <td>0.825013</td>\n",
              "      <td>3.274125</td>\n",
              "      <td>2.790134</td>\n",
              "      <td>20.618009</td>\n",
              "      <td>8.405008</td>\n",
              "      <td>76.291128</td>\n",
              "      <td>0.0</td>\n",
              "    </tr>\n",
              "  </tbody>\n",
              "</table>\n",
              "</div>\n",
              "      <button class=\"colab-df-convert\" onclick=\"convertToInteractive('df-cf9e98f7-eefe-44f5-a49d-e24c4f5b8a9f')\"\n",
              "              title=\"Convert this dataframe to an interactive table.\"\n",
              "              style=\"display:none;\">\n",
              "        \n",
              "  <svg xmlns=\"http://www.w3.org/2000/svg\" height=\"24px\"viewBox=\"0 0 24 24\"\n",
              "       width=\"24px\">\n",
              "    <path d=\"M0 0h24v24H0V0z\" fill=\"none\"/>\n",
              "    <path d=\"M18.56 5.44l.94 2.06.94-2.06 2.06-.94-2.06-.94-.94-2.06-.94 2.06-2.06.94zm-11 1L8.5 8.5l.94-2.06 2.06-.94-2.06-.94L8.5 2.5l-.94 2.06-2.06.94zm10 10l.94 2.06.94-2.06 2.06-.94-2.06-.94-.94-2.06-.94 2.06-2.06.94z\"/><path d=\"M17.41 7.96l-1.37-1.37c-.4-.4-.92-.59-1.43-.59-.52 0-1.04.2-1.43.59L10.3 9.45l-7.72 7.72c-.78.78-.78 2.05 0 2.83L4 21.41c.39.39.9.59 1.41.59.51 0 1.02-.2 1.41-.59l7.78-7.78 2.81-2.81c.8-.78.8-2.07 0-2.86zM5.41 20L4 18.59l7.72-7.72 1.47 1.35L5.41 20z\"/>\n",
              "  </svg>\n",
              "      </button>\n",
              "      \n",
              "  <style>\n",
              "    .colab-df-container {\n",
              "      display:flex;\n",
              "      flex-wrap:wrap;\n",
              "      gap: 12px;\n",
              "    }\n",
              "\n",
              "    .colab-df-convert {\n",
              "      background-color: #E8F0FE;\n",
              "      border: none;\n",
              "      border-radius: 50%;\n",
              "      cursor: pointer;\n",
              "      display: none;\n",
              "      fill: #1967D2;\n",
              "      height: 32px;\n",
              "      padding: 0 0 0 0;\n",
              "      width: 32px;\n",
              "    }\n",
              "\n",
              "    .colab-df-convert:hover {\n",
              "      background-color: #E2EBFA;\n",
              "      box-shadow: 0px 1px 2px rgba(60, 64, 67, 0.3), 0px 1px 3px 1px rgba(60, 64, 67, 0.15);\n",
              "      fill: #174EA6;\n",
              "    }\n",
              "\n",
              "    [theme=dark] .colab-df-convert {\n",
              "      background-color: #3B4455;\n",
              "      fill: #D2E3FC;\n",
              "    }\n",
              "\n",
              "    [theme=dark] .colab-df-convert:hover {\n",
              "      background-color: #434B5C;\n",
              "      box-shadow: 0px 1px 3px 1px rgba(0, 0, 0, 0.15);\n",
              "      filter: drop-shadow(0px 1px 2px rgba(0, 0, 0, 0.3));\n",
              "      fill: #FFFFFF;\n",
              "    }\n",
              "  </style>\n",
              "\n",
              "      <script>\n",
              "        const buttonEl =\n",
              "          document.querySelector('#df-cf9e98f7-eefe-44f5-a49d-e24c4f5b8a9f button.colab-df-convert');\n",
              "        buttonEl.style.display =\n",
              "          google.colab.kernel.accessAllowed ? 'block' : 'none';\n",
              "\n",
              "        async function convertToInteractive(key) {\n",
              "          const element = document.querySelector('#df-cf9e98f7-eefe-44f5-a49d-e24c4f5b8a9f');\n",
              "          const dataTable =\n",
              "            await google.colab.kernel.invokeFunction('convertToInteractive',\n",
              "                                                     [key], {});\n",
              "          if (!dataTable) return;\n",
              "\n",
              "          const docLinkHtml = 'Like what you see? Visit the ' +\n",
              "            '<a target=\"_blank\" href=https://colab.research.google.com/notebooks/data_table.ipynb>data table notebook</a>'\n",
              "            + ' to learn more about interactive tables.';\n",
              "          element.innerHTML = '';\n",
              "          dataTable['output_type'] = 'display_data';\n",
              "          await google.colab.output.renderOutput(dataTable, element);\n",
              "          const docLink = document.createElement('div');\n",
              "          docLink.innerHTML = docLinkHtml;\n",
              "          element.appendChild(docLink);\n",
              "        }\n",
              "      </script>\n",
              "    </div>\n",
              "  </div>\n",
              "  "
            ]
          },
          "metadata": {},
          "execution_count": 4
        }
      ]
    },
    {
      "cell_type": "code",
      "source": [
        "pulse_star_train.info()"
      ],
      "metadata": {
        "colab": {
          "base_uri": "https://localhost:8080/"
        },
        "id": "gDSwlihYqsnV",
        "outputId": "56734bfc-9151-4140-d21b-4c7ea82bad0c"
      },
      "execution_count": 5,
      "outputs": [
        {
          "output_type": "stream",
          "name": "stdout",
          "text": [
            "<class 'pandas.core.frame.DataFrame'>\n",
            "RangeIndex: 12528 entries, 0 to 12527\n",
            "Data columns (total 9 columns):\n",
            " #   Column                                         Non-Null Count  Dtype  \n",
            "---  ------                                         --------------  -----  \n",
            " 0    Mean of the integrated profile                12528 non-null  float64\n",
            " 1    Standard deviation of the integrated profile  12528 non-null  float64\n",
            " 2    Excess kurtosis of the integrated profile     10793 non-null  float64\n",
            " 3    Skewness of the integrated profile            12528 non-null  float64\n",
            " 4    Mean of the DM-SNR curve                      12528 non-null  float64\n",
            " 5    Standard deviation of the DM-SNR curve        11350 non-null  float64\n",
            " 6    Excess kurtosis of the DM-SNR curve           12528 non-null  float64\n",
            " 7    Skewness of the DM-SNR curve                  11903 non-null  float64\n",
            " 8   target_class                                   12528 non-null  float64\n",
            "dtypes: float64(9)\n",
            "memory usage: 881.0 KB\n"
          ]
        }
      ]
    },
    {
      "cell_type": "code",
      "source": [
        "# Somando todos os valores NULL\n",
        "pulse_star_train.isna().sum()"
      ],
      "metadata": {
        "colab": {
          "base_uri": "https://localhost:8080/"
        },
        "id": "Zqrjxlxxt5nb",
        "outputId": "abab446f-eedb-4cc2-d439-b024ac8700d6"
      },
      "execution_count": 6,
      "outputs": [
        {
          "output_type": "execute_result",
          "data": {
            "text/plain": [
              " Mean of the integrated profile                     0\n",
              " Standard deviation of the integrated profile       0\n",
              " Excess kurtosis of the integrated profile       1735\n",
              " Skewness of the integrated profile                 0\n",
              " Mean of the DM-SNR curve                           0\n",
              " Standard deviation of the DM-SNR curve          1178\n",
              " Excess kurtosis of the DM-SNR curve                0\n",
              " Skewness of the DM-SNR curve                     625\n",
              "target_class                                        0\n",
              "dtype: int64"
            ]
          },
          "metadata": {},
          "execution_count": 6
        }
      ]
    },
    {
      "cell_type": "code",
      "source": [
        "# Printando o nome das colunas do dataset atual\n",
        "print('Nomes das colunas atualmente no dataset: ', pulse_star_train.columns)"
      ],
      "metadata": {
        "colab": {
          "base_uri": "https://localhost:8080/"
        },
        "id": "WzeUJPurOUw0",
        "outputId": "1305c071-4e54-49ab-ed9a-284441fc8f32"
      },
      "execution_count": 7,
      "outputs": [
        {
          "output_type": "stream",
          "name": "stdout",
          "text": [
            "Nomes das colunas atualmente no dataset:  Index([' Mean of the integrated profile',\n",
            "       ' Standard deviation of the integrated profile',\n",
            "       ' Excess kurtosis of the integrated profile',\n",
            "       ' Skewness of the integrated profile', ' Mean of the DM-SNR curve',\n",
            "       ' Standard deviation of the DM-SNR curve',\n",
            "       ' Excess kurtosis of the DM-SNR curve', ' Skewness of the DM-SNR curve',\n",
            "       'target_class'],\n",
            "      dtype='object')\n"
          ]
        }
      ]
    },
    {
      "cell_type": "code",
      "source": [
        "# Renomeando colunas para uso posterior; Vou atribuir o dataframe com as colunas renomeadas a uma nova variável;\n",
        "ps_train = pulse_star_train.rename(columns={' Mean of the integrated profile': 'mean_integrated_profile', \n",
        "                                            ' Standard deviation of the integrated profile': 'std_deviation_integrated_profile', \n",
        "                                            ' Excess kurtosis of the integrated profile':'excess_kurtosis_integrated_profile',\n",
        "                                            ' Skewness of the integrated profile':'skewness_integrated_profile', \n",
        "                                            ' Mean of the DM-SNR curve':'mean_dmsnr_curve', \n",
        "                                            ' Standard deviation of the DM-SNR curve':'std_deviation_dmsnr_curve',\n",
        "                                            ' Excess kurtosis of the DM-SNR curve':'excess_kurtosis_dmsnr_curve', \n",
        "                                            ' Skewness of the DM-SNR curve':'skewness_dmsnr_curve', \n",
        "                                            'target_class':'is_pulse_star'})\n"
      ],
      "metadata": {
        "id": "KzFjV6NVO2S2"
      },
      "execution_count": 8,
      "outputs": []
    },
    {
      "cell_type": "code",
      "source": [
        "# Colunas com novos nomes\n",
        "ps_train.columns"
      ],
      "metadata": {
        "colab": {
          "base_uri": "https://localhost:8080/"
        },
        "id": "f0SGSlMRRAzx",
        "outputId": "e13d6168-1d84-4209-ec16-4aac68d977c9"
      },
      "execution_count": 9,
      "outputs": [
        {
          "output_type": "execute_result",
          "data": {
            "text/plain": [
              "Index(['mean_integrated_profile', 'std_deviation_integrated_profile',\n",
              "       'excess_kurtosis_integrated_profile', 'skewness_integrated_profile',\n",
              "       'mean_dmsnr_curve', 'std_deviation_dmsnr_curve',\n",
              "       'excess_kurtosis_dmsnr_curve', 'skewness_dmsnr_curve', 'is_pulse_star'],\n",
              "      dtype='object')"
            ]
          },
          "metadata": {},
          "execution_count": 9
        }
      ]
    },
    {
      "cell_type": "code",
      "source": [
        "# Verificando valores faltantes nas colunas\n",
        "ps_train.isna().sum()"
      ],
      "metadata": {
        "colab": {
          "base_uri": "https://localhost:8080/"
        },
        "id": "0GMFgW-UURKm",
        "outputId": "27926d2d-8282-48e0-8a5e-ec5599e04517"
      },
      "execution_count": 10,
      "outputs": [
        {
          "output_type": "execute_result",
          "data": {
            "text/plain": [
              "mean_integrated_profile                  0\n",
              "std_deviation_integrated_profile         0\n",
              "excess_kurtosis_integrated_profile    1735\n",
              "skewness_integrated_profile              0\n",
              "mean_dmsnr_curve                         0\n",
              "std_deviation_dmsnr_curve             1178\n",
              "excess_kurtosis_dmsnr_curve              0\n",
              "skewness_dmsnr_curve                   625\n",
              "is_pulse_star                            0\n",
              "dtype: int64"
            ]
          },
          "metadata": {},
          "execution_count": 10
        }
      ]
    },
    {
      "cell_type": "code",
      "source": [
        "# Três colunas possuem valores faltantes:\n",
        "# excess_kurtosis_integrated_profile\n",
        "# std_deviation_dmsnr_curve \n",
        "# skewness_dmsnr_curve\n",
        "\n",
        "# Analisando a coluna excess_kurtosis_integrated_profile\n",
        "print(\"\\nAnalisando o atributo excess_kurtosis_integrated_profile:\")\n",
        "print(ps_train[\"excess_kurtosis_integrated_profile\"].describe())\n",
        "ps_train.hist(column='excess_kurtosis_integrated_profile',\n",
        "                   figsize=(9,6),\n",
        "                   bins=20)\n"
      ],
      "metadata": {
        "colab": {
          "base_uri": "https://localhost:8080/",
          "height": 615
        },
        "id": "lpdl4gpLUdy_",
        "outputId": "d4037dcc-4e9f-4c42-d8f0-222dccef5b25"
      },
      "execution_count": 11,
      "outputs": [
        {
          "output_type": "stream",
          "name": "stdout",
          "text": [
            "\n",
            "Analisando o atributo excess_kurtosis_integrated_profile:\n",
            "count    10793.000000\n",
            "mean         0.478548\n",
            "std          1.064708\n",
            "min         -1.738021\n",
            "25%          0.024652\n",
            "50%          0.223678\n",
            "75%          0.473125\n",
            "max          8.069522\n",
            "Name: excess_kurtosis_integrated_profile, dtype: float64\n"
          ]
        },
        {
          "output_type": "execute_result",
          "data": {
            "text/plain": [
              "array([[<matplotlib.axes._subplots.AxesSubplot object at 0x7fc664535150>]],\n",
              "      dtype=object)"
            ]
          },
          "metadata": {},
          "execution_count": 11
        },
        {
          "output_type": "display_data",
          "data": {
            "text/plain": [
              "<Figure size 648x432 with 1 Axes>"
            ],
            "image/png": "[encoded data removed]"
          },
          "metadata": {
            "needs_background": "light"
          }
        }
      ]
    },
    {
      "cell_type": "code",
      "source": [
        "# Analisando a coluna std_deviation_dmsnr_curve\n",
        "print(\"\\nAnalisando o atributo std_deviation_dmsnr_curve:\")\n",
        "print(ps_train[\"std_deviation_dmsnr_curve\"].describe())\n",
        "ps_train.hist(column='std_deviation_dmsnr_curve',\n",
        "                   figsize=(9,6),\n",
        "                   bins=20)"
      ],
      "metadata": {
        "colab": {
          "base_uri": "https://localhost:8080/",
          "height": 615
        },
        "id": "naZO-E4kwPX_",
        "outputId": "a9b4a1ad-7412-48ff-b547-ec1d7ca10f4c"
      },
      "execution_count": 12,
      "outputs": [
        {
          "output_type": "stream",
          "name": "stdout",
          "text": [
            "\n",
            "Analisando o atributo std_deviation_dmsnr_curve:\n",
            "count    11350.000000\n",
            "mean        26.351318\n",
            "std         19.610842\n",
            "min          7.370432\n",
            "25%         14.404353\n",
            "50%         18.412402\n",
            "75%         28.337418\n",
            "max        110.642211\n",
            "Name: std_deviation_dmsnr_curve, dtype: float64\n"
          ]
        },
        {
          "output_type": "execute_result",
          "data": {
            "text/plain": [
              "array([[<matplotlib.axes._subplots.AxesSubplot object at 0x7fc66441fdd0>]],\n",
              "      dtype=object)"
            ]
          },
          "metadata": {},
          "execution_count": 12
        },
        {
          "output_type": "display_data",
          "data": {
            "text/plain": [
              "<Figure size 648x432 with 1 Axes>"
            ],
            "image/png": "[encoded data removed]"
          },
          "metadata": {
            "needs_background": "light"
          }
        }
      ]
    },
    {
      "cell_type": "code",
      "source": [
        "# Analisando a coluna skewness_dmsnr_curve\n",
        "print(\"\\nAnalisando o atributo skewness_dmsnr_curve:\")\n",
        "print(ps_train[\"skewness_dmsnr_curve\"].describe())\n",
        "ps_train.hist(column='skewness_dmsnr_curve',\n",
        "                   figsize=(9,6),\n",
        "                   bins=20)"
      ],
      "metadata": {
        "colab": {
          "base_uri": "https://localhost:8080/",
          "height": 615
        },
        "id": "Dk2amlZswazD",
        "outputId": "0534488d-3f04-44e4-dbf9-a24e3109bfe0"
      },
      "execution_count": 13,
      "outputs": [
        {
          "output_type": "stream",
          "name": "stdout",
          "text": [
            "\n",
            "Analisando o atributo skewness_dmsnr_curve:\n",
            "count    11903.000000\n",
            "mean       105.525779\n",
            "std        107.399585\n",
            "min         -1.976976\n",
            "25%         35.199899\n",
            "50%         83.126301\n",
            "75%        139.997850\n",
            "max       1191.000837\n",
            "Name: skewness_dmsnr_curve, dtype: float64\n"
          ]
        },
        {
          "output_type": "execute_result",
          "data": {
            "text/plain": [
              "array([[<matplotlib.axes._subplots.AxesSubplot object at 0x7fc664441910>]],\n",
              "      dtype=object)"
            ]
          },
          "metadata": {},
          "execution_count": 13
        },
        {
          "output_type": "display_data",
          "data": {
            "text/plain": [
              "<Figure size 648x432 with 1 Axes>"
            ],
            "image/png": "[encoded data removed]"
          },
          "metadata": {
            "needs_background": "light"
          }
        }
      ]
    },
    {
      "cell_type": "code",
      "source": [
        "# Preencher os valores faltantes com KNN Imputer\n",
        "# Primeiro, escalar os valores para que fiquem entre 0 e 1 para melhor performance do knn imputer\n",
        "from sklearn.preprocessing import MinMaxScaler\n",
        "scaler = MinMaxScaler()\n",
        "ps_train = pd.DataFrame(scaler.fit_transform(ps_train), columns = ps_train.columns)\n",
        "ps_train.head()"
      ],
      "metadata": {
        "colab": {
          "base_uri": "https://localhost:8080/",
          "height": 270
        },
        "id": "DVJdyvBl4Er3",
        "outputId": "44b5eb36-1b45-4ac9-c74b-b3daf291cb88"
      },
      "execution_count": 14,
      "outputs": [
        {
          "output_type": "execute_result",
          "data": {
            "text/plain": [
              "   mean_integrated_profile  std_deviation_integrated_profile  \\\n",
              "0                 0.627134                          0.352060   \n",
              "1                 0.386883                          0.170109   \n",
              "2                 0.678405                          0.424507   \n",
              "3                 0.818749                          0.359414   \n",
              "4                 0.429488                          0.169245   \n",
              "\n",
              "   excess_kurtosis_integrated_profile  skewness_integrated_profile  \\\n",
              "0                            0.215498                     0.025449   \n",
              "1                            0.249901                     0.074121   \n",
              "2                            0.190815                     0.021385   \n",
              "3                            0.155190                     0.023187   \n",
              "4                            0.261333                     0.072482   \n",
              "\n",
              "   mean_dmsnr_curve  std_deviation_dmsnr_curve  excess_kurtosis_dmsnr_curve  \\\n",
              "0          0.013301                   0.106795                     0.281035   \n",
              "1          0.009840                   0.098774                     0.333180   \n",
              "2          0.011386                   0.145172                     0.309127   \n",
              "3          0.077668                        NaN                     0.161823   \n",
              "4          0.011597                   0.128279                     0.306384   \n",
              "\n",
              "   skewness_dmsnr_curve  is_pulse_star  \n",
              "0              0.056276            0.0  \n",
              "1              0.087764            0.0  \n",
              "2              0.063713            0.0  \n",
              "3              0.007691            0.0  \n",
              "4              0.065607            0.0  "
            ],
            "text/html": [
              "\n",
              "  <div id=\"df-4d4834c5-3fa5-4ec2-a595-8df5a94b08ed\">\n",
              "    <div class=\"colab-df-container\">\n",
              "      <div>\n",
              "<style scoped>\n",
              "    .dataframe tbody tr th:only-of-type {\n",
              "        vertical-align: middle;\n",
              "    }\n",
              "\n",
              "    .dataframe tbody tr th {\n",
              "        vertical-align: top;\n",
              "    }\n",
              "\n",
              "    .dataframe thead th {\n",
              "        text-align: right;\n",
              "    }\n",
              "</style>\n",
              "<table border=\"1\" class=\"dataframe\">\n",
              "  <thead>\n",
              "    <tr style=\"text-align: right;\">\n",
              "      <th></th>\n",
              "      <th>mean_integrated_profile</th>\n",
              "      <th>std_deviation_integrated_profile</th>\n",
              "      <th>excess_kurtosis_integrated_profile</th>\n",
              "      <th>skewness_integrated_profile</th>\n",
              "      <th>mean_dmsnr_curve</th>\n",
              "      <th>std_deviation_dmsnr_curve</th>\n",
              "      <th>excess_kurtosis_dmsnr_curve</th>\n",
              "      <th>skewness_dmsnr_curve</th>\n",
              "      <th>is_pulse_star</th>\n",
              "    </tr>\n",
              "  </thead>\n",
              "  <tbody>\n",
              "    <tr>\n",
              "      <th>0</th>\n",
              "      <td>0.627134</td>\n",
              "      <td>0.352060</td>\n",
              "      <td>0.215498</td>\n",
              "      <td>0.025449</td>\n",
              "      <td>0.013301</td>\n",
              "      <td>0.106795</td>\n",
              "      <td>0.281035</td>\n",
              "      <td>0.056276</td>\n",
              "      <td>0.0</td>\n",
              "    </tr>\n",
              "    <tr>\n",
              "      <th>1</th>\n",
              "      <td>0.386883</td>\n",
              "      <td>0.170109</td>\n",
              "      <td>0.249901</td>\n",
              "      <td>0.074121</td>\n",
              "      <td>0.009840</td>\n",
              "      <td>0.098774</td>\n",
              "      <td>0.333180</td>\n",
              "      <td>0.087764</td>\n",
              "      <td>0.0</td>\n",
              "    </tr>\n",
              "    <tr>\n",
              "      <th>2</th>\n",
              "      <td>0.678405</td>\n",
              "      <td>0.424507</td>\n",
              "      <td>0.190815</td>\n",
              "      <td>0.021385</td>\n",
              "      <td>0.011386</td>\n",
              "      <td>0.145172</td>\n",
              "      <td>0.309127</td>\n",
              "      <td>0.063713</td>\n",
              "      <td>0.0</td>\n",
              "    </tr>\n",
              "    <tr>\n",
              "      <th>3</th>\n",
              "      <td>0.818749</td>\n",
              "      <td>0.359414</td>\n",
              "      <td>0.155190</td>\n",
              "      <td>0.023187</td>\n",
              "      <td>0.077668</td>\n",
              "      <td>NaN</td>\n",
              "      <td>0.161823</td>\n",
              "      <td>0.007691</td>\n",
              "      <td>0.0</td>\n",
              "    </tr>\n",
              "    <tr>\n",
              "      <th>4</th>\n",
              "      <td>0.429488</td>\n",
              "      <td>0.169245</td>\n",
              "      <td>0.261333</td>\n",
              "      <td>0.072482</td>\n",
              "      <td>0.011597</td>\n",
              "      <td>0.128279</td>\n",
              "      <td>0.306384</td>\n",
              "      <td>0.065607</td>\n",
              "      <td>0.0</td>\n",
              "    </tr>\n",
              "  </tbody>\n",
              "</table>\n",
              "</div>\n",
              "      <button class=\"colab-df-convert\" onclick=\"convertToInteractive('df-4d4834c5-3fa5-4ec2-a595-8df5a94b08ed')\"\n",
              "              title=\"Convert this dataframe to an interactive table.\"\n",
              "              style=\"display:none;\">\n",
              "        \n",
              "  <svg xmlns=\"http://www.w3.org/2000/svg\" height=\"24px\"viewBox=\"0 0 24 24\"\n",
              "       width=\"24px\">\n",
              "    <path d=\"M0 0h24v24H0V0z\" fill=\"none\"/>\n",
              "    <path d=\"M18.56 5.44l.94 2.06.94-2.06 2.06-.94-2.06-.94-.94-2.06-.94 2.06-2.06.94zm-11 1L8.5 8.5l.94-2.06 2.06-.94-2.06-.94L8.5 2.5l-.94 2.06-2.06.94zm10 10l.94 2.06.94-2.06 2.06-.94-2.06-.94-.94-2.06-.94 2.06-2.06.94z\"/><path d=\"M17.41 7.96l-1.37-1.37c-.4-.4-.92-.59-1.43-.59-.52 0-1.04.2-1.43.59L10.3 9.45l-7.72 7.72c-.78.78-.78 2.05 0 2.83L4 21.41c.39.39.9.59 1.41.59.51 0 1.02-.2 1.41-.59l7.78-7.78 2.81-2.81c.8-.78.8-2.07 0-2.86zM5.41 20L4 18.59l7.72-7.72 1.47 1.35L5.41 20z\"/>\n",
              "  </svg>\n",
              "      </button>\n",
              "      \n",
              "  <style>\n",
              "    .colab-df-container {\n",
              "      display:flex;\n",
              "      flex-wrap:wrap;\n",
              "      gap: 12px;\n",
              "    }\n",
              "\n",
              "    .colab-df-convert {\n",
              "      background-color: #E8F0FE;\n",
              "      border: none;\n",
              "      border-radius: 50%;\n",
              "      cursor: pointer;\n",
              "      display: none;\n",
              "      fill: #1967D2;\n",
              "      height: 32px;\n",
              "      padding: 0 0 0 0;\n",
              "      width: 32px;\n",
              "    }\n",
              "\n",
              "    .colab-df-convert:hover {\n",
              "      background-color: #E2EBFA;\n",
              "      box-shadow: 0px 1px 2px rgba(60, 64, 67, 0.3), 0px 1px 3px 1px rgba(60, 64, 67, 0.15);\n",
              "      fill: #174EA6;\n",
              "    }\n",
              "\n",
              "    [theme=dark] .colab-df-convert {\n",
              "      background-color: #3B4455;\n",
              "      fill: #D2E3FC;\n",
              "    }\n",
              "\n",
              "    [theme=dark] .colab-df-convert:hover {\n",
              "      background-color: #434B5C;\n",
              "      box-shadow: 0px 1px 3px 1px rgba(0, 0, 0, 0.15);\n",
              "      filter: drop-shadow(0px 1px 2px rgba(0, 0, 0, 0.3));\n",
              "      fill: #FFFFFF;\n",
              "    }\n",
              "  </style>\n",
              "\n",
              "      <script>\n",
              "        const buttonEl =\n",
              "          document.querySelector('#df-4d4834c5-3fa5-4ec2-a595-8df5a94b08ed button.colab-df-convert');\n",
              "        buttonEl.style.display =\n",
              "          google.colab.kernel.accessAllowed ? 'block' : 'none';\n",
              "\n",
              "        async function convertToInteractive(key) {\n",
              "          const element = document.querySelector('#df-4d4834c5-3fa5-4ec2-a595-8df5a94b08ed');\n",
              "          const dataTable =\n",
              "            await google.colab.kernel.invokeFunction('convertToInteractive',\n",
              "                                                     [key], {});\n",
              "          if (!dataTable) return;\n",
              "\n",
              "          const docLinkHtml = 'Like what you see? Visit the ' +\n",
              "            '<a target=\"_blank\" href=https://colab.research.google.com/notebooks/data_table.ipynb>data table notebook</a>'\n",
              "            + ' to learn more about interactive tables.';\n",
              "          element.innerHTML = '';\n",
              "          dataTable['output_type'] = 'display_data';\n",
              "          await google.colab.output.renderOutput(dataTable, element);\n",
              "          const docLink = document.createElement('div');\n",
              "          docLink.innerHTML = docLinkHtml;\n",
              "          element.appendChild(docLink);\n",
              "        }\n",
              "      </script>\n",
              "    </div>\n",
              "  </div>\n",
              "  "
            ]
          },
          "metadata": {},
          "execution_count": 14
        }
      ]
    },
    {
      "cell_type": "code",
      "source": [
        "# Importando o KNN Imputer e preenchendo valores faltantes\n",
        "from sklearn.impute import KNNImputer\n",
        "\n",
        "imputer = KNNImputer(n_neighbors=15)\n",
        "ps_train = pd.DataFrame(imputer.fit_transform(ps_train),columns = ps_train.columns)"
      ],
      "metadata": {
        "id": "vvnNKhWY4t-m"
      },
      "execution_count": 16,
      "outputs": []
    },
    {
      "cell_type": "code",
      "source": [
        "# Verificando se ainda há algum dado faltante\n",
        "ps_train.isna().sum()"
      ],
      "metadata": {
        "colab": {
          "base_uri": "https://localhost:8080/"
        },
        "id": "NIo-WzfvhCd4",
        "outputId": "5e12d932-001a-4458-c3e7-e21d1af11f61"
      },
      "execution_count": 17,
      "outputs": [
        {
          "output_type": "execute_result",
          "data": {
            "text/plain": [
              "mean_integrated_profile               0\n",
              "std_deviation_integrated_profile      0\n",
              "excess_kurtosis_integrated_profile    0\n",
              "skewness_integrated_profile           0\n",
              "mean_dmsnr_curve                      0\n",
              "std_deviation_dmsnr_curve             0\n",
              "excess_kurtosis_dmsnr_curve           0\n",
              "skewness_dmsnr_curve                  0\n",
              "is_pulse_star                         0\n",
              "dtype: int64"
            ]
          },
          "metadata": {},
          "execution_count": 17
        }
      ]
    },
    {
      "cell_type": "code",
      "source": [
        "# Analisando novamente os 3 gráficos dos dados faltantes após o preenchimento pelo KNN Imputer\n",
        "# Coluna excess_kurtosis_integrated_profile\n",
        "print(\"\\nAnalisando o atributo excess_kurtosis_integrated_profile:\")\n",
        "print(ps_train[\"excess_kurtosis_integrated_profile\"].describe())\n",
        "ps_train.hist(column='excess_kurtosis_integrated_profile',\n",
        "                   figsize=(9,6),\n",
        "                   bins=20)\n",
        "\n",
        "# Coluna std_deviation_dmsnr_curve\n",
        "print(\"\\nAnalisando o atributo std_deviation_dmsnr_curve:\")\n",
        "print(ps_train[\"std_deviation_dmsnr_curve\"].describe())\n",
        "ps_train.hist(column='std_deviation_dmsnr_curve',\n",
        "                   figsize=(9,6),\n",
        "                   bins=20)\n",
        "\n",
        "# Coluna skewness_dmsnr_curve\n",
        "print(\"\\nAnalisando o atributo skewness_dmsnr_curve:\")\n",
        "print(ps_train[\"skewness_dmsnr_curve\"].describe())\n",
        "ps_train.hist(column='skewness_dmsnr_curve',\n",
        "                   figsize=(9,6),\n",
        "                   bins=20)"
      ],
      "metadata": {
        "colab": {
          "base_uri": "https://localhost:8080/",
          "height": 1000
        },
        "id": "vp6XUMmh5YCa",
        "outputId": "9126abb3-7f3c-4999-80fb-8f11467c0a29"
      },
      "execution_count": 19,
      "outputs": [
        {
          "output_type": "stream",
          "name": "stdout",
          "text": [
            "\n",
            "Analisando o atributo excess_kurtosis_integrated_profile:\n",
            "count    12528.000000\n",
            "mean         0.226107\n",
            "std          0.108313\n",
            "min          0.000000\n",
            "25%          0.180158\n",
            "50%          0.199978\n",
            "75%          0.225086\n",
            "max          1.000000\n",
            "Name: excess_kurtosis_integrated_profile, dtype: float64\n",
            "\n",
            "Analisando o atributo std_deviation_dmsnr_curve:\n",
            "count    12528.000000\n",
            "mean         0.183188\n",
            "std          0.188778\n",
            "min          0.000000\n",
            "25%          0.068255\n",
            "50%          0.106921\n",
            "75%          0.202527\n",
            "max          1.000000\n",
            "Name: std_deviation_dmsnr_curve, dtype: float64\n",
            "\n",
            "Analisando o atributo skewness_dmsnr_curve:\n",
            "count    12528.000000\n",
            "mean         0.090247\n",
            "std          0.089763\n",
            "min          0.000000\n",
            "25%          0.031385\n",
            "50%          0.071510\n",
            "75%          0.119177\n",
            "max          1.000000\n",
            "Name: skewness_dmsnr_curve, dtype: float64\n"
          ]
        },
        {
          "output_type": "execute_result",
          "data": {
            "text/plain": [
              "array([[<matplotlib.axes._subplots.AxesSubplot object at 0x7fc660f50750>]],\n",
              "      dtype=object)"
            ]
          },
          "metadata": {},
          "execution_count": 19
        },
        {
          "output_type": "display_data",
          "data": {
            "text/plain": [
              "<Figure size 648x432 with 1 Axes>"
            ],
            "image/png": "[encoded data removed]"
          },
          "metadata": {
            "needs_background": "light"
          }
        },
        {
          "output_type": "display_data",
          "data": {
            "text/plain": [
              "<Figure size 648x432 with 1 Axes>"
            ],
            "image/png": "[encoded data removed]"
          },
          "metadata": {
            "needs_background": "light"
          }
        },
        {
          "output_type": "display_data",
          "data": {
            "text/plain": [
              "<Figure size 648x432 with 1 Axes>"
            ],
            "image/png": "[encoded data removed]"
          },
          "metadata": {
            "needs_background": "light"
          }
        }
      ]
    },
    {
      "cell_type": "code",
      "source": [
        "# Exbindo boxplt para lidar com outliers\n",
        "import matplotlib.pyplot as plt\n",
        "ps_train.plot(kind = \"box\" , subplots = True , figsize = (18,15) ,  layout = (3,3))\n",
        "plt.show()"
      ],
      "metadata": {
        "colab": {
          "base_uri": "https://localhost:8080/",
          "height": 864
        },
        "id": "wnvXARVt3sxm",
        "outputId": "580c02ac-b7d7-47a9-dc83-f96a97790ec6"
      },
      "execution_count": 18,
      "outputs": [
        {
          "output_type": "display_data",
          "data": {
            "text/plain": [
              "<Figure size 1296x1080 with 9 Axes>"
            ],
            "image/png": "[encoded data removed]"
          },
          "metadata": {
            "needs_background": "light"
          }
        }
      ]
    },
    {
      "cell_type": "code",
      "source": [
        "# Tratando outliers a partir do metodo de Tukey\n",
        "def tukey_outliers(x):\n",
        "    \n",
        "    q1 = np.percentile(x, 25)\n",
        "    q3 = np.percentile(x, 75)\n",
        "    \n",
        "    interquartil = q3-q1 \n",
        "    \n",
        "    teto = q3 + 1.5*interquartil\n",
        "    piso = q1 - 1.5*interquartil\n",
        "    \n",
        "\n",
        "    return teto,piso"
      ],
      "metadata": {
        "id": "y_kwIJvKRzdA"
      },
      "execution_count": 20,
      "outputs": []
    },
    {
      "cell_type": "code",
      "source": [
        "# Iterando nas colunas para tratar os outliers\n",
        "for coluna in ps_train.columns[:-1]:\n",
        "    teto,piso=tukey_outliers(ps_train[coluna])\n",
        "    ps_train[coluna]=np.where(ps_train[coluna]>teto,teto,ps_train[coluna])\n",
        "    ps_train[coluna]=np.where(ps_train[coluna]<piso,piso,ps_train[coluna])"
      ],
      "metadata": {
        "id": "EeX8l20tTEIj"
      },
      "execution_count": 21,
      "outputs": []
    },
    {
      "cell_type": "code",
      "source": [
        "# Plotando resultado do tratamento\n",
        "ps_train.plot(kind = \"box\" , subplots = True , figsize = (18,15) ,  layout = (3,3))\n",
        "plt.show()"
      ],
      "metadata": {
        "colab": {
          "base_uri": "https://localhost:8080/",
          "height": 867
        },
        "id": "rlKFcflnUMcC",
        "outputId": "e5e613c5-fe0e-4d43-a8a0-aed45ed6561d"
      },
      "execution_count": 22,
      "outputs": [
        {
          "output_type": "display_data",
          "data": {
            "text/plain": [
              "<Figure size 1296x1080 with 9 Axes>"
            ],
            "image/png": "[encoded data removed]"
          },
          "metadata": {
            "needs_background": "light"
          }
        }
      ]
    },
    {
      "cell_type": "code",
      "source": [
        "# Salvar arquivo tratado para uso nos modelos\n",
        "type(ps_train)\n",
        "ps_train.to_csv(r'pulsar_data_train_clean_2.csv', index = False)\n",
        "\n"
      ],
      "metadata": {
        "id": "mTI6oHL0RB40"
      },
      "execution_count": 23,
      "outputs": []
    },
    {
      "cell_type": "markdown",
      "source": [
        "# New Section"
      ],
      "metadata": {
        "id": "BM3yUMdyhXRz"
      }
    }
  ]
}