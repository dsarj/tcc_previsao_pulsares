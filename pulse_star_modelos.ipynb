{
  "nbformat": 4,
  "nbformat_minor": 0,
  "metadata": {
    "colab": {
      "name": "pulse_star_modelos.ipynb",
      "provenance": [],
      "authorship_tag": "ABX9TyO48QXksFr6MV1XRevQsKXD",
      "include_colab_link": true
    },
    "kernelspec": {
      "name": "python3",
      "display_name": "Python 3"
    },
    "language_info": {
      "name": "python"
    }
  },
  "cells": [
    {
      "cell_type": "markdown",
      "metadata": {
        "id": "view-in-github",
        "colab_type": "text"
      },
      "source": [
        "<a href=\"https://colab.research.google.com/github/dsarj/tcc_previsao_pulsares/blob/main/pulse_star_modelos.ipynb\" target=\"_parent\"><img src=\"https://colab.research.google.com/assets/colab-badge.svg\" alt=\"Open In Colab\"/></a>"
      ]
    },
    {
      "cell_type": "code",
      "execution_count": 2,
      "metadata": {
        "id": "VgZniTdOVBaj"
      },
      "outputs": [],
      "source": [
        "import pandas as pd\n",
        "import numpy as np\n",
        "import seaborn as sns\n",
        "\n",
        "from google.colab import files\n",
        "from imblearn.over_sampling import SMOTE\n",
        "from imblearn.over_sampling import BorderlineSMOTE\n",
        "from imblearn.over_sampling import SVMSMOTE\n",
        "from imblearn.over_sampling import ADASYN\n",
        "from sklearn.model_selection import train_test_split\n",
        "from sklearn.preprocessing import StandardScaler\n",
        "from sklearn.metrics import classification_report, confusion_matrix, accuracy_score\n",
        "from sklearn.tree import DecisionTreeRegressor\n",
        "from sklearn.ensemble import RandomForestRegressor\n",
        "from sklearn.linear_model import LogisticRegression\n",
        "from sklearn.linear_model import LinearRegression\n",
        "from sklearn.pipeline import make_pipeline"
      ]
    },
    {
      "cell_type": "code",
      "source": [
        "# Lendo arquivo csv tratado\n",
        "data = files.upload()"
      ],
      "metadata": {
        "colab": {
          "resources": {
            "http://localhost:8080/nbextensions/google.colab/files.js": {
              "data": "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",
              "ok": true,
              "headers": [
                [
                  "content-type",
                  "application/javascript"
                ]
              ],
              "status": 200,
              "status_text": ""
            }
          },
          "base_uri": "https://localhost:8080/",
          "height": 74
        },
        "id": "a81YcOYXVMR-",
        "outputId": "55db8782-446e-4f16-d4cd-e9d39a6dfc7c"
      },
      "execution_count": 3,
      "outputs": [
        {
          "output_type": "display_data",
          "data": {
            "text/plain": [
              "<IPython.core.display.HTML object>"
            ],
            "text/html": [
              "\n",
              "     <input type=\"file\" id=\"files-54e1a0e3-5419-41e7-843d-56163fd31676\" name=\"files[]\" multiple disabled\n",
              "        style=\"border:none\" />\n",
              "     <output id=\"result-54e1a0e3-5419-41e7-843d-56163fd31676\">\n",
              "      Upload widget is only available when the cell has been executed in the\n",
              "      current browser session. Please rerun this cell to enable.\n",
              "      </output>\n",
              "      <script src=\"/nbextensions/google.colab/files.js\"></script> "
            ]
          },
          "metadata": {}
        },
        {
          "output_type": "stream",
          "name": "stdout",
          "text": [
            "Saving pulsar_data_train_clean_2.csv to pulsar_data_train_clean_2.csv\n"
          ]
        }
      ]
    },
    {
      "cell_type": "code",
      "source": [
        "# Obtendo o dataframe do arquivo lido\n",
        "pulse_star_train = pd.read_csv(next(iter(data.keys())))\n",
        "\n",
        "ps_df_train = pulse_star_train.copy()"
      ],
      "metadata": {
        "id": "zJ-NZpWvVZYy"
      },
      "execution_count": 28,
      "outputs": []
    },
    {
      "cell_type": "code",
      "source": [
        "# Verificando balanceamento das classes\n",
        "print(ps_df_train.is_pulse_star.value_counts())\n",
        "ax = sns.countplot(x=\"is_pulse_star\", data=ps_df_train)"
      ],
      "metadata": {
        "colab": {
          "base_uri": "https://localhost:8080/",
          "height": 332
        },
        "id": "1PgZUNh64PL4",
        "outputId": "2aa193b4-6bd1-4f9f-e87f-4170cbf174d9"
      },
      "execution_count": 29,
      "outputs": [
        {
          "output_type": "stream",
          "name": "stdout",
          "text": [
            "0.0    11375\n",
            "1.0     1153\n",
            "Name: is_pulse_star, dtype: int64\n"
          ]
        },
        {
          "output_type": "display_data",
          "data": {
            "text/plain": [
              "<Figure size 432x288 with 1 Axes>"
            ],
            "image/png": "[encoded data removed]"
          },
          "metadata": {
            "needs_background": "light"
          }
        }
      ]
    },
    {
      "cell_type": "code",
      "source": [
        "# Preparando o train test split\n",
        "X=ps_df_train.drop(\"is_pulse_star\",axis=1)\n",
        "y=ps_df_train[\"is_pulse_star\"]\n"
      ],
      "metadata": {
        "id": "4mfW4lMqWDCI"
      },
      "execution_count": 30,
      "outputs": []
    },
    {
      "cell_type": "code",
      "source": [
        "# Aplicando o BorderlineSMOTE para balanceamento das classes\n",
        "bsmt = BorderlineSMOTE()\n",
        "X, y = bsmt.fit_resample(X,y)"
      ],
      "metadata": {
        "id": "6UhTRg4vZoBm"
      },
      "execution_count": 31,
      "outputs": []
    },
    {
      "cell_type": "code",
      "source": [
        "# Verificando balanceamento após Balanceamento\n",
        "ax = sns.countplot(x=y)"
      ],
      "metadata": {
        "colab": {
          "base_uri": "https://localhost:8080/",
          "height": 280
        },
        "id": "xHTbXzT-6jMk",
        "outputId": "f2760931-3444-491a-8281-4c96f641919a"
      },
      "execution_count": 32,
      "outputs": [
        {
          "output_type": "display_data",
          "data": {
            "text/plain": [
              "<Figure size 432x288 with 1 Axes>"
            ],
            "image/png": "[encoded data removed]"
          },
          "metadata": {
            "needs_background": "light"
          }
        }
      ]
    },
    {
      "cell_type": "code",
      "source": [
        "# Aplicando o train test split com 70% da base para treinamento\n",
        "train_X, val_X, train_y, val_y = train_test_split(X, y, random_state = 18, test_size = 0.3, stratify=y)\n"
      ],
      "metadata": {
        "id": "b1uKERlhWf3d"
      },
      "execution_count": 33,
      "outputs": []
    },
    {
      "cell_type": "code",
      "source": [
        "# Aplicando standard scaler no modelo\n",
        "sc = StandardScaler()\n",
        "train_X = sc.fit_transform(train_X)\n",
        "val_X = sc.fit_transform(val_X)"
      ],
      "metadata": {
        "id": "fnDZAqeFQJsO"
      },
      "execution_count": 35,
      "outputs": []
    },
    {
      "cell_type": "code",
      "source": [
        "# RANDOM FOREST REGRESSOR\n",
        "# Método que calcula acurácia do RANDOM FOREST REGRESSOR recebendo um n_estimators\n",
        "def calculateAccuracyRF(num_estimators):\n",
        "  \n",
        "  print(\"N_Estimator: {}\".format(num_estimators)) \n",
        "  \n",
        "  forest_model = RandomForestRegressor(n_estimators=num_estimators, random_state=18)\n",
        "  forest_model.fit(train_X, train_y)\n",
        "\n",
        "  y_pred_train = forest_model.predict(val_X)\n",
        "\n",
        "  fm_score = forest_model.score(val_X, val_y)\n",
        "\n",
        "  print(fm_score)\n",
        "\n",
        "  acuracia = accuracy_score(val_y, y_pred_train.astype(int), normalize=True, sample_weight=None)\n",
        "\n",
        "  print(\"Acurácia do teste: {:.2f}%\".format(acuracia * 100))\n",
        "  print(confusion_matrix(val_y,y_pred_train.astype(int)))\n",
        "  print(classification_report(val_y,y_pred_train.astype(int)))\n",
        "  print(\"----------------------------------------------------\")\n",
        "\n",
        " "
      ],
      "metadata": {
        "id": "Out107P4Xvjp"
      },
      "execution_count": 34,
      "outputs": []
    },
    {
      "cell_type": "code",
      "source": [
        "# Verificando que quanto menor o numero de estimators maior a precisao do teste\n",
        "# Vou usar estimators entre 1 e 20\n",
        "for n_estimat in [1,2,3,4,5]:\n",
        "  calculateAccuracyRF(n_estimat)"
      ],
      "metadata": {
        "colab": {
          "base_uri": "https://localhost:8080/"
        },
        "id": "wDDBX8jQ0Wr_",
        "outputId": "9b3368d1-263e-4286-f2b6-50244105f0f0"
      },
      "execution_count": 35,
      "outputs": [
        {
          "output_type": "stream",
          "name": "stdout",
          "text": [
            "N_Estimator: 1\n",
            "0.8622710593142762\n",
            "Acurácia do teste: 96.56%\n",
            "[[3278  135]\n",
            " [ 100 3312]]\n",
            "              precision    recall  f1-score   support\n",
            "\n",
            "         0.0       0.97      0.96      0.97      3413\n",
            "         1.0       0.96      0.97      0.97      3412\n",
            "\n",
            "    accuracy                           0.97      6825\n",
            "   macro avg       0.97      0.97      0.97      6825\n",
            "weighted avg       0.97      0.97      0.97      6825\n",
            "\n",
            "----------------------------------------------------\n",
            "N_Estimator: 2\n",
            "0.9047619027173186\n",
            "Acurácia do teste: 96.63%\n",
            "[[3340   73]\n",
            " [ 157 3255]]\n",
            "              precision    recall  f1-score   support\n",
            "\n",
            "         0.0       0.96      0.98      0.97      3413\n",
            "         1.0       0.98      0.95      0.97      3412\n",
            "\n",
            "    accuracy                           0.97      6825\n",
            "   macro avg       0.97      0.97      0.97      6825\n",
            "weighted avg       0.97      0.97      0.97      6825\n",
            "\n",
            "----------------------------------------------------\n",
            "N_Estimator: 3\n",
            "0.9141717523291801\n",
            "Acurácia do teste: 96.12%\n",
            "[[3357   56]\n",
            " [ 209 3203]]\n",
            "              precision    recall  f1-score   support\n",
            "\n",
            "         0.0       0.94      0.98      0.96      3413\n",
            "         1.0       0.98      0.94      0.96      3412\n",
            "\n",
            "    accuracy                           0.96      6825\n",
            "   macro avg       0.96      0.96      0.96      6825\n",
            "weighted avg       0.96      0.96      0.96      6825\n",
            "\n",
            "----------------------------------------------------\n",
            "N_Estimator: 4\n",
            "0.9188278370852223\n",
            "Acurácia do teste: 95.84%\n",
            "[[3362   51]\n",
            " [ 233 3179]]\n",
            "              precision    recall  f1-score   support\n",
            "\n",
            "         0.0       0.94      0.99      0.96      3413\n",
            "         1.0       0.98      0.93      0.96      3412\n",
            "\n",
            "    accuracy                           0.96      6825\n",
            "   macro avg       0.96      0.96      0.96      6825\n",
            "weighted avg       0.96      0.96      0.96      6825\n",
            "\n",
            "----------------------------------------------------\n",
            "N_Estimator: 5\n",
            "0.9237860789499084\n",
            "Acurácia do teste: 95.37%\n",
            "[[3368   45]\n",
            " [ 271 3141]]\n",
            "              precision    recall  f1-score   support\n",
            "\n",
            "         0.0       0.93      0.99      0.96      3413\n",
            "         1.0       0.99      0.92      0.95      3412\n",
            "\n",
            "    accuracy                           0.95      6825\n",
            "   macro avg       0.96      0.95      0.95      6825\n",
            "weighted avg       0.96      0.95      0.95      6825\n",
            "\n",
            "----------------------------------------------------\n"
          ]
        }
      ]
    },
    {
      "cell_type": "code",
      "source": [
        "# Calcula acurácia de um modelo, dados suas predicoes e validações\n",
        "def calculateAccuracy(y_pred_train, val_y):\n",
        "  acuracia = accuracy_score(val_y, y_pred_train.astype(int), normalize=True)\n",
        "\n",
        "  print(\"Acurácia do teste: {:.2f}%\".format(acuracia * 100))\n",
        "  print(confusion_matrix(val_y,y_pred_train.astype(int)))\n",
        "\n",
        "  print(classification_report(val_y,y_pred_train.astype(int)))\n",
        "  print(\"----------------------------------------------------\")\n"
      ],
      "metadata": {
        "id": "f8DYjNOUZjmD"
      },
      "execution_count": 36,
      "outputs": []
    },
    {
      "cell_type": "code",
      "source": [
        "# Modelo REGRESSÃO LOGÍSTICA\n",
        "model_reg_log = LogisticRegression(\n",
        "    multi_class = 'multinomial',\n",
        "    fit_intercept = False\n",
        ")\n",
        "model_reg_log.fit(train_X, train_y)\n",
        "\n",
        "y_pred_train_reg_log = model_reg_log.predict(val_X)\n",
        "\n",
        "mrl_score = model_reg_log.score(val_X, val_y)\n",
        "\n",
        "print(mrl_score)\n",
        "\n",
        "calculateAccuracy(y_pred_train_reg_log, val_y)"
      ],
      "metadata": {
        "id": "6jKNXl-objgN",
        "colab": {
          "base_uri": "https://localhost:8080/"
        },
        "outputId": "32a4b7a4-35b8-414d-f995-20c89cb06f3b"
      },
      "execution_count": 37,
      "outputs": [
        {
          "output_type": "stream",
          "name": "stdout",
          "text": [
            "0.892014652014652\n",
            "Acurácia do teste: 89.20%\n",
            "[[3030  383]\n",
            " [ 354 3058]]\n",
            "              precision    recall  f1-score   support\n",
            "\n",
            "         0.0       0.90      0.89      0.89      3413\n",
            "         1.0       0.89      0.90      0.89      3412\n",
            "\n",
            "    accuracy                           0.89      6825\n",
            "   macro avg       0.89      0.89      0.89      6825\n",
            "weighted avg       0.89      0.89      0.89      6825\n",
            "\n",
            "----------------------------------------------------\n"
          ]
        }
      ]
    },
    {
      "cell_type": "code",
      "source": [
        "# Modelo de ÁRVORE DE DECISÃO\n",
        "decision_tree_model = DecisionTreeRegressor(\n",
        "    random_state = 10\n",
        ")\n",
        "\n",
        "decision_tree_model.fit(train_X, train_y)\n",
        "\n",
        "y_pred_train_dec_tree = decision_tree_model.predict(val_X)\n",
        "\n",
        "dtm_score = decision_tree_model.score(val_X, val_y)\n",
        "\n",
        "print(dtm_score)\n",
        "\n",
        "calculateAccuracy(y_pred_train_dec_tree, val_y)"
      ],
      "metadata": {
        "id": "ft5QZKmGcnRp",
        "colab": {
          "base_uri": "https://localhost:8080/"
        },
        "outputId": "730035d7-fa8d-4f8b-bda1-daf648509d2c"
      },
      "execution_count": 38,
      "outputs": [
        {
          "output_type": "stream",
          "name": "stdout",
          "text": [
            "0.8886446862540957\n",
            "Acurácia do teste: 97.22%\n",
            "[[3302  111]\n",
            " [  79 3333]]\n",
            "              precision    recall  f1-score   support\n",
            "\n",
            "         0.0       0.98      0.97      0.97      3413\n",
            "         1.0       0.97      0.98      0.97      3412\n",
            "\n",
            "    accuracy                           0.97      6825\n",
            "   macro avg       0.97      0.97      0.97      6825\n",
            "weighted avg       0.97      0.97      0.97      6825\n",
            "\n",
            "----------------------------------------------------\n"
          ]
        }
      ]
    },
    {
      "cell_type": "code",
      "source": [
        "# Modelo de REGRESSÃO LINEAR\n",
        "\n",
        "linear_regression_model = LinearRegression()#make_pipeline(StandardScaler(with_mean=True), LinearRegression())#LinearRegression()\n",
        "\n",
        "linear_regression_model.fit(train_X, train_y)\n",
        "\n",
        "y_pred_train_lin_reg = linear_regression_model.predict(val_X)\n",
        "\n",
        "lrm_score = linear_regression_model.score(val_X, val_y)\n",
        "\n",
        "print(lrm_score)\n",
        "\n",
        "calculateAccuracy(y_pred_train_lin_reg, val_y)"
      ],
      "metadata": {
        "id": "UuLdhGUcQ2gS",
        "colab": {
          "base_uri": "https://localhost:8080/"
        },
        "outputId": "94406cb7-5182-4c89-acf1-1ce31438ba0d"
      },
      "execution_count": 39,
      "outputs": [
        {
          "output_type": "stream",
          "name": "stdout",
          "text": [
            "0.6862974169965597\n",
            "Acurácia do teste: 62.90%\n",
            "[[3401   12]\n",
            " [2520  892]]\n",
            "              precision    recall  f1-score   support\n",
            "\n",
            "         0.0       0.57      1.00      0.73      3413\n",
            "         1.0       0.99      0.26      0.41      3412\n",
            "\n",
            "    accuracy                           0.63      6825\n",
            "   macro avg       0.78      0.63      0.57      6825\n",
            "weighted avg       0.78      0.63      0.57      6825\n",
            "\n",
            "----------------------------------------------------\n"
          ]
        }
      ]
    }
  ]
}